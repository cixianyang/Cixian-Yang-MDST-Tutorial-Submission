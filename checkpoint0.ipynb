{
  "cells": [
    {
      "cell_type": "markdown",
      "metadata": {
        "id": "view-in-github",
        "colab_type": "text"
      },
      "source": [
        "<a href=\"https://colab.research.google.com/github/cixianyang/Cixian-Yang-MDST-Tutorial-Submission/blob/main/checkpoint0.ipynb\" target=\"_parent\"><img src=\"https://colab.research.google.com/assets/colab-badge.svg\" alt=\"Open In Colab\"/></a>"
      ]
    },
    {
      "cell_type": "markdown",
      "metadata": {
        "id": "0a8IYAJUshu1"
      },
      "source": [
        "# Checkpoint 0\n",
        "## Do not remove comments that start with: \"# @@@\" (Those are question tags)"
      ],
      "id": "0a8IYAJUshu1"
    },
    {
      "cell_type": "markdown",
      "metadata": {
        "id": "O1TFR7FNpPk3"
      },
      "source": [
        "These exercises are a mix of Python and Pandas practice. Most should be no more than a few lines of code!\n",
        "\n",
        "Do not remove comments that start with: \"# @@@\" (Those are question tags)"
      ],
      "id": "O1TFR7FNpPk3"
    },
    {
      "cell_type": "code",
      "execution_count": null,
      "metadata": {
        "id": "Jo6wuTgkshu1"
      },
      "outputs": [],
      "source": [
        "# @@@ Question 1: Here is a python list, initialize another list called b with the same values as a.\n",
        "a = [1, 2, 3, 4, 5, 6]\n",
        "b = [1, 2, 3, 4, 5, 6]"
      ],
      "id": "Jo6wuTgkshu1"
    },
    {
      "cell_type": "code",
      "execution_count": null,
      "id": "779d96b1",
      "metadata": {
        "id": "779d96b1"
      },
      "outputs": [],
      "source": [
        "# @@@ Question 2: get a list containing the last 3 elements of b\n",
        "# Yes, you can just type out [4, 5, 6] but we really want to see you demonstrate you know how to use list slicing in Python\n",
        "a[3:]"
      ]
    },
    {
      "cell_type": "code",
      "execution_count": null,
      "id": "b6a54def",
      "metadata": {
        "id": "b6a54def"
      },
      "outputs": [],
      "source": [
        "# @@@ Question 3: Create a list of numbers from 1 to 20\n",
        "numList = list (range(1, 21))"
      ]
    },
    {
      "cell_type": "code",
      "execution_count": null,
      "id": "487873ac",
      "metadata": {
        "id": "487873ac"
      },
      "outputs": [],
      "source": [
        "# @@@ Question 4: now get a list with only the even numbers between 1 and 100\n",
        "evenList = list(range(2, 101, 2))"
      ]
    },
    {
      "cell_type": "code",
      "execution_count": 6,
      "id": "3d4bb5dd",
      "metadata": {
        "id": "3d4bb5dd"
      },
      "outputs": [],
      "source": [
        "# @@@ Question 5: write a function that takes two numbers as arguments\n",
        "# and returns the first number divided by the second\n",
        "result = divide(12, 2)\n",
        "print(result)"
      ]
    },
    {
      "cell_type": "code",
      "execution_count": null,
      "id": "f55df04e",
      "metadata": {
        "id": "f55df04e"
      },
      "outputs": [],
      "source": [
        "# @@@ Queston 6: fizzbuzz\n",
        "# you will need to use both iteration and control flow\n",
        "# go through all numbers from 1 to 30 in order\n",
        "# if the number is a multiple of 3, print fizz\n",
        "# if the number is a multiple of 5, print buzz\n",
        "# if the number is a multiple of 3 and 5, print fizzbuzz and NOTHING ELSE\n",
        "# if the number is neither a multiple of 3 nor a multiple of 5, print the number\n",
        "for i in range(1, 31):\n",
        "    if i % 3 == 0 and i % 5 == 0:\n",
        "        print(\"fizzbuzz\")\n",
        "    elif i % 3 == 0:\n",
        "        print(\"fizz\")\n",
        "    elif i % 5 == 0:\n",
        "        print(\"buzz\")\n",
        "    else:\n",
        "        print(i)"
      ]
    },
    {
      "cell_type": "code",
      "execution_count": null,
      "id": "78aace0b",
      "metadata": {
        "id": "78aace0b"
      },
      "outputs": [],
      "source": [
        "# @@@ Question 7: create a dictionary that reflects the following menu pricing (taken from Ahmo's)\n",
        "# Gyro: $9\n",
        "# Burger: $9\n",
        "# Greek Salad: $8\n",
        "# Philly Steak: $10\n",
        "\n",
        "menu = {\n",
        "    \"Gyro\": \"$9\",\n",
        "    \"Burger\": \"$9\",\n",
        "    \"Greek Salad\": \"$8\",\n",
        "    \"Philly Steak\": \"$10\"\n",
        "}"
      ]
    },
    {
      "cell_type": "code",
      "execution_count": null,
      "metadata": {
        "id": "WzCQ5HOJshvA"
      },
      "outputs": [],
      "source": [
        "# @@@ Question 8: load in the \"starbucks.csv\" dataset\n",
        "# refer to how we read the cereal.csv dataset in the tutorial\n",
        "df = pd.read_csv(\"../data/starbucks.csv\")\n",
        "type(df)"
      ],
      "id": "WzCQ5HOJshvA"
    },
    {
      "cell_type": "code",
      "execution_count": null,
      "id": "ac0f0c12",
      "metadata": {
        "id": "ac0f0c12"
      },
      "outputs": [],
      "source": [
        "# @@@ Question 9: select all rows with more than and including 400 calories\n",
        "df[df[\"calories\"] > 400]\n",
        "# This gives us all the rows in which the protein is greater than 3.\n",
        "#df[df[\"protein\"] > 3]"
      ]
    },
    {
      "cell_type": "code",
      "execution_count": null,
      "id": "ee8f8241",
      "metadata": {
        "id": "ee8f8241"
      },
      "outputs": [],
      "source": [
        "# @@@ Question 10: select all rows whose vitamin c content is higher than the iron content\n",
        "df[df[\"vitamin c\"] > df[\"iron\"]]\n",
        "\n",
        "# You can compare two columns\n",
        "# Get all the cereals with more protein than sugar\n",
        "#df[df[\"protein\"] > df[\"sugars\"]]"
      ]
    },
    {
      "cell_type": "code",
      "execution_count": null,
      "id": "d4de48bb",
      "metadata": {
        "id": "d4de48bb"
      },
      "outputs": [],
      "source": [
        "# @@@ Question 11: create a new column containing the caffeine per calories of each drink\n",
        "df[\"caffeine_per_calories\"] = df[\"caffeine\"] / df[\"calories\"]\n",
        "df.head()\n",
        "\n",
        "#df[\"weight_per_cup\"] = df[\"weight\"] / df[\"cups\"]\n",
        "#df.head()"
      ]
    },
    {
      "cell_type": "code",
      "execution_count": null,
      "metadata": {
        "id": "rIoxaSxHshvB"
      },
      "outputs": [],
      "source": [
        "# @@@ Question 12: what is the average calorie across all items?\n",
        "print(\"Average calories:\", df[\"calories\"].mean())"
      ],
      "id": "rIoxaSxHshvB"
    },
    {
      "cell_type": "code",
      "execution_count": null,
      "metadata": {
        "id": "ABX7i49FshvD"
      },
      "outputs": [],
      "source": [
        "# @@@ Question 13: how many different categories of beverages are there?\n",
        "print(df[\"beverage_category\"].unique())"
      ],
      "id": "ABX7i49FshvD"
    },
    {
      "cell_type": "code",
      "execution_count": null,
      "metadata": {
        "id": "P9QatZAzshvE"
      },
      "outputs": [],
      "source": [
        "# @@@ Question 14: what is the average # calories for each beverage category?\n",
        "# Now let's group by the manufacturers\n",
        "# This gives us a groupby object across the dataframe\n",
        "#mfrs = df.groupby(\"mfr\")\n",
        "#mfrs\n",
        "# now let's find the mean calories of each manufacturer\n",
        "#mfrs[\"calories\"].mean()\n",
        "\n",
        "mfrs = df.groupby(\"beverage_category\")\n",
        "print(mfrs[\"calories\"].mean())"
      ],
      "id": "P9QatZAzshvE"
    }
  ],
  "metadata": {
    "kernelspec": {
      "display_name": "Python 3.9.0 64-bit",
      "language": "python",
      "name": "python3"
    },
    "language_info": {
      "codemirror_mode": {
        "name": "ipython",
        "version": 3
      },
      "file_extension": ".py",
      "mimetype": "text/x-python",
      "name": "python",
      "nbconvert_exporter": "python",
      "pygments_lexer": "ipython3",
      "version": "3.9.0"
    },
    "vscode": {
      "interpreter": {
        "hash": "6cf8df3ff69f85f626faf55c10df6fe2cb9d1236b4dc73844ee4dc01369c2c99"
      }
    },
    "colab": {
      "provenance": [],
      "include_colab_link": true
    }
  },
  "nbformat": 4,
  "nbformat_minor": 5
}