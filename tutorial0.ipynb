{
  "cells": [
    {
      "cell_type": "markdown",
      "metadata": {
        "id": "view-in-github",
        "colab_type": "text"
      },
      "source": [
        "<a href=\"https://colab.research.google.com/github/cixianyang/Cixian-Yang-MDST-Tutorial-Submission/blob/main/tutorial0.ipynb\" target=\"_parent\"><img src=\"https://colab.research.google.com/assets/colab-badge.svg\" alt=\"Open In Colab\"/></a>"
      ]
    },
    {
      "cell_type": "markdown",
      "metadata": {
        "id": "FNW8Vxpom2t7"
      },
      "source": [
        "# The Python Ecosystem"
      ]
    },
    {
      "cell_type": "markdown",
      "metadata": {
        "id": "wq7dWNn5m2t8"
      },
      "source": [
        "Here are some extra resources for learning Python:\n",
        "\n",
        "**Getting Started with Python**:\n",
        "\n",
        "* https://www.codecademy.com/learn/python\n",
        "* http://docs.python-guide.org/en/latest/intro/learning/\n",
        "* https://learnpythonthehardway.org/book/\n",
        "* https://www.codementor.io/learn-python-online\n",
        "\n",
        "**Learning Python in Notebooks**:\n",
        "\n",
        "* http://mbakker7.github.io/exploratory_computing_with_python/\n",
        "\n",
        "This is handy to always have available for reference:\n",
        "\n",
        "**Python Reference**:\n",
        "\n",
        "* https://docs.python.org/3/reference/\n"
      ]
    },
    {
      "cell_type": "markdown",
      "metadata": {
        "id": "0EyAlrThm2t9"
      },
      "source": [
        "There are also many Python courses avilable via Datacamp. You can access all their courses with the invite link on our [resources page](https://www.mdst.club/resources)!"
      ]
    },
    {
      "cell_type": "markdown",
      "metadata": {
        "id": "9x0J660gm2t9"
      },
      "source": [
        "## 0. Jupyter Notebook"
      ]
    },
    {
      "cell_type": "markdown",
      "metadata": {
        "id": "42u0yndhm2t9"
      },
      "source": [
        "Welcome to Jupyter Notebook! Jupyter lets you develop documents that combine codes, visualizations and explanatory texts.\n",
        "\n",
        "At MDST, we use Jupyter Notebooks for:\n",
        "- data cleaning and transformation\n",
        "- statistical modeling\n",
        "- data visualization\n",
        "- machine learning\n",
        "- ..."
      ]
    },
    {
      "cell_type": "markdown",
      "metadata": {
        "id": "sfrHiVGIm2t9"
      },
      "source": [
        "Cells are the basic units of organization in Jupyter Notebooks. You can start editing each cell by pressing ENTER or double clicking."
      ]
    },
    {
      "cell_type": "markdown",
      "metadata": {
        "id": "Xqy5ttcZm2t9"
      },
      "source": [
        "All our cells so far are _Markdown_ cells, meaning they just contain text!\n",
        "\n",
        "What is [Markdown](https://en.wikipedia.org/wiki/Markdown), you ask. It is a kind of text file where the information about the file's formatting is stored in the file itself.\n",
        "\n",
        "That means (enter edit mode to see the actual Markdown text):\n",
        "\n",
        "- To make something bold, put two asterisks on each side, **like so**.\n",
        "- To italicize something, put an asterisk on each side, *like so*.\n",
        "- To cross something out, put two tildes on each side, ~~like so~~.\n",
        "- To embed a link in words, put the words in square brackets and put the link immediately after that in parenthesis, [like so](https://www.yout-ube.com/watch?v=dQw4w9WgXcQ).\n",
        "\n",
        "Most crucially, simply pressing `ENTER` once does NOT do anything in Markdown. You have to leave an empty line before every new paragraph.\n",
        "\n",
        "Whereas these operations are done by clicking a button in MS Word or Google Docs, they are a part of the text in Markdown.\n",
        "\n",
        "Here is a Markdown [cheatsheet](https://www.markdownguide.org/cheat-sheet/)."
      ]
    },
    {
      "cell_type": "code",
      "execution_count": null,
      "metadata": {
        "id": "hr4ewBWim2t-"
      },
      "outputs": [],
      "source": [
        "# Jupyter also has code cells for writing and running Python codes.\n",
        "# What's in this cell are not Python codes; they are comments. You can start comments by putting an asterisk at the beginning of lines.\n",
        "# Comments are for other humans only. The computer will ignore them when executing your programs.\n",
        "# Pro Tip: You can comment and uncomment many lines at once by highlighting them and pressing CTRL + / or CMD + /"
      ]
    },
    {
      "cell_type": "markdown",
      "metadata": {
        "id": "3tlStPQDm2t-"
      },
      "source": [
        "You can run a cell by pressing `CTRL + ENTER` or `SHIFT + ENTER`. Running a cell will either render the contained Markdown to nice-looking text or execute the contained codes.\n",
        "\n",
        "If you are new to Python, you should run every cell in this notebook. If you already have some familarity, you can use the Table of Contents to skip ahead."
      ]
    },
    {
      "cell_type": "markdown",
      "metadata": {
        "id": "UktzFEPEm2t-"
      },
      "source": [
        "# Table of Contents\n",
        "\n",
        "- [1. Data Types](#1.-Data-Types)\n",
        "    - [1.0 Your First Python Program](#1.0-Your-First-Python-Program)\n",
        "    - [1.1 Data Type](#1.1-Data-Type)\n",
        "    - [1.2 Container (list, tuple, dictionary, set)](#1.2-Container)\n",
        "- [2. Control Flow](#2.-Control-Flow)\n",
        "- [3. Iterating](#3.-Iterating)\n",
        "    - [3.0 For Loops](#3.0-For-Loops)\n",
        "    - [3.1 List Comprehension](#3.1-List-Comprehension-(Optional))\n",
        "- [4. Functions](#4.-Functions)\n",
        "    - [4.0 Import & Library](#4.0-Import-&-Library)\n",
        "    - [4.1 Built-in Function](#4.1-Built-in-Function)\n",
        "    - [4.2 Custom Function](#4.2-Custom-Function)\n",
        "    - [4.3 Lambda Function](#4.3-Lambda-Function-(Optional))\n",
        "    - [4.4 Type Hinting](#4.4-Type-Hinting-(Optional))\n",
        "- [5. Numpy](#5.-Numpy)\n",
        "    - [5.0 Array](#5.0-Array)\n",
        "    - [5.1 Math](#5.1-Math)\n",
        "- [6. Pandas](#6.-Pandas)\n",
        "    - [6.0 Dataframes & Series](#6.0-Dataframes-&-Series)\n",
        "    - [6.1 Indexing](#6.1-Indexing)\n",
        "    - [6.2 Data Transformation](#6.2-Data-Transformation)\n",
        "    - [6.3 Grouping & Aggregating](#6.3-Grouping-&-Aggregating)\n",
        "    - [6.4 Lambda Functions in Pandas](#6.4-Leveraging-Lambda-Functions-In-Pandas-(Optional))\n",
        "\n",
        "The checkpoint proceeds in the same order so you can follow along."
      ]
    },
    {
      "cell_type": "markdown",
      "metadata": {
        "id": "SUkW0nJ8m2t-"
      },
      "source": [
        "## 1. Data Types"
      ]
    },
    {
      "cell_type": "markdown",
      "metadata": {
        "id": "qy4luNG_m2t-"
      },
      "source": [
        "### 1.0 Your First Python Program"
      ]
    },
    {
      "cell_type": "code",
      "execution_count": null,
      "metadata": {
        "id": "Ad2im45Lm2t-"
      },
      "outputs": [],
      "source": [
        "# Tradition demands that we do this\n",
        "# Try running this cell\n",
        "\n",
        "print(\"Hello World\")"
      ]
    },
    {
      "cell_type": "markdown",
      "metadata": {
        "id": "vMnG9CdMm2t-"
      },
      "source": [
        "The `print()` function is how you output things for people to see in Python."
      ]
    },
    {
      "cell_type": "code",
      "execution_count": null,
      "metadata": {
        "id": "X3CWp8z0m2t-"
      },
      "outputs": [],
      "source": [
        "# Notebooks will automatically print the output of the last line of each cell when they are ran\n",
        "\n",
        "413 * 5791"
      ]
    },
    {
      "cell_type": "markdown",
      "metadata": {
        "id": "K5LkbKtZm2t-"
      },
      "source": [
        "### 1.1 Data Type"
      ]
    },
    {
      "cell_type": "markdown",
      "metadata": {
        "id": "cPYHaAaHm2t-"
      },
      "source": [
        "#### 1.1.0 Ints and Floats"
      ]
    },
    {
      "cell_type": "markdown",
      "metadata": {
        "id": "HgQCfIEMm2t_"
      },
      "source": [
        "Python distinguishes between integers and decimal numbers (floats)."
      ]
    },
    {
      "cell_type": "code",
      "execution_count": null,
      "metadata": {
        "id": "pwoXngV0m2t_"
      },
      "outputs": [],
      "source": [
        "type(0)"
      ]
    },
    {
      "cell_type": "code",
      "execution_count": null,
      "metadata": {
        "id": "IBrdERiwm2t_"
      },
      "outputs": [],
      "source": [
        "type(0.0)"
      ]
    },
    {
      "cell_type": "markdown",
      "metadata": {
        "id": "P9DlVcRym2t_"
      },
      "source": [
        "Basic arithmetic is straight forward in Python."
      ]
    },
    {
      "cell_type": "code",
      "execution_count": null,
      "metadata": {
        "id": "hcZEt-cUm2t_"
      },
      "outputs": [],
      "source": [
        "3 + 2"
      ]
    },
    {
      "cell_type": "code",
      "execution_count": null,
      "metadata": {
        "id": "YqVD1W4Pm2t_"
      },
      "outputs": [],
      "source": [
        "1.1 - 9.0"
      ]
    },
    {
      "cell_type": "code",
      "execution_count": null,
      "metadata": {
        "id": "IGvfjeO9m2t_"
      },
      "outputs": [],
      "source": [
        "3 * 5"
      ]
    },
    {
      "cell_type": "code",
      "execution_count": null,
      "metadata": {
        "id": "nucKnmQBm2t_"
      },
      "outputs": [],
      "source": [
        "# When two numbers, regardless of whether they are int or float, are divided, Python returns the result as if the operation is done on a calculator\n",
        "# This is known as float division\n",
        "print(1/2)\n",
        "print(1.5/2.4)"
      ]
    },
    {
      "cell_type": "code",
      "execution_count": null,
      "metadata": {
        "id": "HOKRT42Em2t_"
      },
      "outputs": [],
      "source": [
        "# There is also integer division that can be done between two int\n",
        "# In Python, the behavior is always to round the float divison result down to the nearest integer\n",
        "14 // 5"
      ]
    },
    {
      "cell_type": "code",
      "execution_count": null,
      "metadata": {
        "id": "SHoWEl2Bm2t_"
      },
      "outputs": [],
      "source": [
        "# You can also find the remainders of divisions\n",
        "# Also known as taking the modulus\n",
        "13 % 5"
      ]
    },
    {
      "cell_type": "code",
      "execution_count": null,
      "metadata": {
        "id": "X7bJ2DIGm2t_"
      },
      "outputs": [],
      "source": [
        "# exponent\n",
        "10 ** 3"
      ]
    },
    {
      "cell_type": "markdown",
      "metadata": {
        "id": "dAjWDDCdm2t_"
      },
      "source": [
        "ints and floats are mostly interchangeable and can also be cast (i.e. converted) to the other type."
      ]
    },
    {
      "cell_type": "code",
      "execution_count": null,
      "metadata": {
        "id": "Qp632lAHm2t_"
      },
      "outputs": [],
      "source": [
        "float(3)"
      ]
    },
    {
      "cell_type": "code",
      "execution_count": null,
      "metadata": {
        "id": "XeUabDjbm2t_"
      },
      "outputs": [],
      "source": [
        "int(2.9)"
      ]
    },
    {
      "cell_type": "markdown",
      "metadata": {
        "id": "CGqnM1Ncm2t_"
      },
      "source": [
        "#### 1.1.1 Strings"
      ]
    },
    {
      "cell_type": "markdown",
      "metadata": {
        "id": "6Wt3TGN-m2t_"
      },
      "source": [
        "Strings are Python's internal representation of texts."
      ]
    },
    {
      "cell_type": "code",
      "execution_count": null,
      "metadata": {
        "id": "7V-ttwvXm2t_"
      },
      "outputs": [],
      "source": [
        "# They can either be surrounded by double quotes...\n",
        "type(\"apple\")"
      ]
    },
    {
      "cell_type": "code",
      "execution_count": null,
      "metadata": {
        "id": "vdqB2XCFm2t_"
      },
      "outputs": [],
      "source": [
        "# or single quotes\n",
        "type('apple')"
      ]
    },
    {
      "cell_type": "code",
      "execution_count": null,
      "metadata": {
        "id": "UfadBmjqm2t_"
      },
      "outputs": [],
      "source": [
        "# You can piece two strings together (aka concatenate) using the plus sign\n",
        "\"Hello\" + \" World\""
      ]
    },
    {
      "cell_type": "markdown",
      "metadata": {
        "id": "Mkzv2tHkm2t_"
      },
      "source": [
        "Python provides many functions for manipulating strings."
      ]
    },
    {
      "cell_type": "code",
      "execution_count": null,
      "metadata": {
        "id": "KNkkgTV0m2t_"
      },
      "outputs": [],
      "source": [
        "# Capitalize\n",
        "\"like so\".upper()"
      ]
    },
    {
      "cell_type": "code",
      "execution_count": null,
      "metadata": {
        "id": "S1hjg4uHm2t_"
      },
      "outputs": [],
      "source": [
        "# Lowercase\n",
        "\"LIKE SO\".lower()"
      ]
    },
    {
      "cell_type": "code",
      "execution_count": null,
      "metadata": {
        "id": "zTUHIqosm2uA"
      },
      "outputs": [],
      "source": [
        "# Title case\n",
        "\"like so\".title()"
      ]
    },
    {
      "cell_type": "code",
      "execution_count": null,
      "metadata": {
        "id": "zyAK4kmBm2uA"
      },
      "outputs": [],
      "source": [
        "# Count the number of characters, including whitespace\n",
        "len(\"like so\")"
      ]
    },
    {
      "cell_type": "code",
      "execution_count": null,
      "metadata": {
        "id": "DRENZpYdm2uA"
      },
      "outputs": [],
      "source": [
        "# Remove spaces on either side of a string\n",
        "\"    like so  \".strip()"
      ]
    },
    {
      "cell_type": "code",
      "execution_count": null,
      "metadata": {
        "id": "qy89qdynm2uA"
      },
      "outputs": [],
      "source": [
        "# Split a string into a list of words\n",
        "\"like so\".split()"
      ]
    },
    {
      "cell_type": "markdown",
      "metadata": {
        "id": "hkT-XOafm2uA"
      },
      "source": [
        "You can find a comprehensive list of these functions [here](https://www.w3schools.com/python/python_ref_string.asp)."
      ]
    },
    {
      "cell_type": "markdown",
      "metadata": {
        "id": "isJTYT61m2uA"
      },
      "source": [
        "#### 1.1.2 Boolean Values"
      ]
    },
    {
      "cell_type": "markdown",
      "metadata": {
        "id": "UIqI5RZpm2uA"
      },
      "source": [
        "There are two boolean values in Python `True` and `False`. They are case sensitive and must be typed exactly as such.\n",
        "\n",
        "Now time for some basic [boolean algebra](https://en.wikipedia.org/wiki/Boolean_algebra)."
      ]
    },
    {
      "cell_type": "markdown",
      "metadata": {
        "id": "RcicGkLMm2uA"
      },
      "source": [
        "You can flip a boolean value to its opposite with `not`."
      ]
    },
    {
      "cell_type": "code",
      "execution_count": null,
      "metadata": {
        "id": "Wn97lSBem2uA"
      },
      "outputs": [],
      "source": [
        "print(not True)\n",
        "print(not False)"
      ]
    },
    {
      "cell_type": "code",
      "execution_count": null,
      "metadata": {
        "id": "xfYLgvmEm2uA"
      },
      "outputs": [],
      "source": [
        "# and, or conjunction, only evaluates to True when every boolean value involved is True\n",
        "print(True and True)\n",
        "print(True and False)\n",
        "print(False and False)"
      ]
    },
    {
      "cell_type": "code",
      "execution_count": null,
      "metadata": {
        "id": "-QAvUgdQm2uB"
      },
      "outputs": [],
      "source": [
        "# or, or disjunction, evaluates to True whenever at least one involved boolean value is True\n",
        "print(True or True)\n",
        "print(True or False)\n",
        "print(False or False)"
      ]
    },
    {
      "cell_type": "code",
      "execution_count": null,
      "metadata": {
        "id": "udj-uEk2m2uB"
      },
      "outputs": [],
      "source": [
        "# All the non-zero numbers are treated as True\n",
        "print(bool(1 and True))\n",
        "print(bool(0 and True))"
      ]
    },
    {
      "cell_type": "code",
      "execution_count": null,
      "metadata": {
        "id": "7vSjjGRrm2uB"
      },
      "outputs": [],
      "source": [
        "# All non-empty strings, even if the string is all whitespaces, are treated as True\n",
        "print(bool(True and \"\"))\n",
        "print(bool(True and \"    \"))\n",
        "print(bool(True and \"False\"))"
      ]
    },
    {
      "cell_type": "markdown",
      "metadata": {
        "id": "cE2Elealm2uB"
      },
      "source": [
        "We will use boolean values much more extensively when we encounter control flow and `if` statements."
      ]
    },
    {
      "cell_type": "markdown",
      "metadata": {
        "id": "gby9zYelm2uB"
      },
      "source": [
        "#### 1.1.3 Variables"
      ]
    },
    {
      "cell_type": "markdown",
      "metadata": {
        "id": "qHIcGo6wm2uB"
      },
      "source": [
        "You can store data inside named variables, and refer back to the data with its name.\n",
        "\n",
        "Variable names cannot begin with a digit."
      ]
    },
    {
      "cell_type": "code",
      "execution_count": null,
      "metadata": {
        "id": "Vk7QltVom2uB"
      },
      "outputs": [],
      "source": [
        "# Python automatically figures out what type your variables are\n",
        "# Once the cell is ran, the variables are made available everywhere else in the notebook\n",
        "\n",
        "x = 4\n",
        "y = 5"
      ]
    },
    {
      "cell_type": "code",
      "execution_count": null,
      "metadata": {
        "id": "gPYkjMbXm2uB"
      },
      "outputs": [],
      "source": [
        "# We can do arithmetic with those variables in another cell\n",
        "4*x + 5*y"
      ]
    },
    {
      "cell_type": "code",
      "execution_count": null,
      "metadata": {
        "id": "I7Nvwbiym2uB"
      },
      "outputs": [],
      "source": [
        "# There are some shorthands for updating variables\n",
        "# Instead of x = x + 2\n",
        "# We can simply do:\n",
        "\n",
        "x += 2\n",
        "x\n",
        "\n",
        "# You can do the same for -, *, and /"
      ]
    },
    {
      "cell_type": "code",
      "execution_count": null,
      "metadata": {
        "id": "G7Wl7q3Jm2uB"
      },
      "outputs": [],
      "source": [
        "# In Python, snake case is the norm for multi-word variable names\n",
        "\n",
        "michigan_data_science_club_abbreviation = \"MDST\""
      ]
    },
    {
      "cell_type": "code",
      "execution_count": null,
      "metadata": {
        "id": "PnguHmFKm2uB"
      },
      "outputs": [],
      "source": [
        "# The values stored inside the variables can be overwritten later by referring back to the variable name\n",
        "# Python allows changing the data type of the variable when it is overwritten\n",
        "\n",
        "x = \"like\"\n",
        "y = \" so\"\n",
        "\n",
        "x + y"
      ]
    },
    {
      "cell_type": "markdown",
      "metadata": {
        "id": "e2EcsTo8m2uB"
      },
      "source": [
        "### 1.2 Container"
      ]
    },
    {
      "cell_type": "markdown",
      "metadata": {
        "id": "LOkMSPCem2uB"
      },
      "source": [
        "#### 1.2.0 List"
      ]
    },
    {
      "cell_type": "markdown",
      "metadata": {
        "id": "Bo_4z7Ewm2uB"
      },
      "source": [
        "A list is a collection of data. A list can contain different types of data."
      ]
    },
    {
      "cell_type": "code",
      "execution_count": null,
      "metadata": {
        "id": "svEFKTYLm2uB"
      },
      "outputs": [],
      "source": [
        "# You can create (aka initialize) an empty list with the square brackets\n",
        "empty_list = []\n",
        "\n",
        "# or with the list() command\n",
        "another_empty_list = list()"
      ]
    },
    {
      "cell_type": "code",
      "execution_count": null,
      "metadata": {
        "id": "Yuam2tR9m2uB"
      },
      "outputs": [],
      "source": [
        "# Or you can create lists by listing the elements it should contain\n",
        "nonempty_list = [32, 'MDST', True]"
      ]
    },
    {
      "cell_type": "markdown",
      "metadata": {
        "id": "OJzrxNvim2uB"
      },
      "source": [
        "Once a list is created, you can retrieve elements inside with its index.\n",
        "\n",
        "Python uses 0-indexing, meaning the first element is on index 0."
      ]
    },
    {
      "cell_type": "code",
      "execution_count": null,
      "metadata": {
        "id": "_XUnwTI4m2uB"
      },
      "outputs": [],
      "source": [
        "# Retrieve an element by putting its index in a square bracket after the list's name\n",
        "nonempty_list[1]"
      ]
    },
    {
      "cell_type": "code",
      "execution_count": null,
      "metadata": {
        "id": "lypkssVwm2uB"
      },
      "outputs": [],
      "source": [
        "# This works similarly for strings\n",
        "mdst = \"MDST\"\n",
        "mdst[2]"
      ]
    },
    {
      "cell_type": "code",
      "execution_count": null,
      "metadata": {
        "id": "OBzpas34m2uB"
      },
      "outputs": [],
      "source": [
        "# You can chain indices as well\n",
        "nonempty_list[1][2]"
      ]
    },
    {
      "cell_type": "markdown",
      "metadata": {
        "id": "eR4wrFp_m2uB"
      },
      "source": [
        "Negative numbers index from the end. Think of it as -1 wrapping around to the last element in the list. -2 is then the second last element in the list etc."
      ]
    },
    {
      "cell_type": "code",
      "execution_count": null,
      "metadata": {
        "id": "NC2auT65m2uC"
      },
      "outputs": [],
      "source": [
        "nonempty_list[-2]"
      ]
    },
    {
      "cell_type": "markdown",
      "metadata": {
        "id": "lJQ8YmWVm2uC"
      },
      "source": [
        "Be careful to not use an index that doesn't exist in a list. Python won't know what to do and will throw an error."
      ]
    },
    {
      "cell_type": "code",
      "execution_count": null,
      "metadata": {
        "id": "9u-rB45Ym2uC"
      },
      "outputs": [],
      "source": [
        "# Getting the first element in an empty list doesn't make sense.\n",
        "\n",
        "print(empty_list[0])\n"
      ]
    },
    {
      "cell_type": "code",
      "execution_count": null,
      "metadata": {
        "id": "PyFF4oBjm2uC"
      },
      "outputs": [],
      "source": [
        "# Neither does finding the fifth element in a three-element list\n",
        "\n",
        "print(nonempty_list[4])"
      ]
    },
    {
      "cell_type": "markdown",
      "metadata": {
        "id": "2o86OE2Bm2uC"
      },
      "source": [
        "You can use indexing to get subarrays/substrings.\n",
        "\n",
        "syntax: [start:end:step]\n",
        "\n",
        "The subarray will include the start index (inclusive) but not the end (exclusive)."
      ]
    },
    {
      "cell_type": "code",
      "execution_count": null,
      "metadata": {
        "id": "531usHxim2uC"
      },
      "outputs": [],
      "source": [
        "sample_list = [0, 1, 2, 3 , 4, 5, 6, 7, 8, 9, 10]"
      ]
    },
    {
      "cell_type": "code",
      "execution_count": null,
      "metadata": {
        "id": "KTWaopzsm2uC"
      },
      "outputs": [],
      "source": [
        "# Getting the fourth to eighth element\n",
        "# If you don't specify the step, Python assumes you want every element in the range\n",
        "\n",
        "sample_list[3:8]"
      ]
    },
    {
      "cell_type": "code",
      "execution_count": null,
      "metadata": {
        "id": "9vffYwGrm2uC"
      },
      "outputs": [],
      "source": [
        "# When end is not specified, Python includes everything including and after the start index\n",
        "sample_list[5:]"
      ]
    },
    {
      "cell_type": "code",
      "execution_count": null,
      "metadata": {
        "id": "RBmVVT4im2uC"
      },
      "outputs": [],
      "source": [
        "# Similarly, when start is not specified, Python includes everything before the end index but excludes the end index itself\n",
        "sample_list[:-5]"
      ]
    },
    {
      "cell_type": "code",
      "execution_count": null,
      "metadata": {
        "id": "H1_tQ0UMm2uC"
      },
      "outputs": [],
      "source": [
        "# When neither start nor end is specified, Python applies the step argument to the entire list\n",
        "# step = 2 means to take 2 steps forward each time an element is selected. In other words, it selects every other element\n",
        "\n",
        "sample_list[::2]"
      ]
    },
    {
      "cell_type": "code",
      "execution_count": null,
      "metadata": {
        "id": "L6LvWJHWm2uC"
      },
      "outputs": [],
      "source": [
        "# A neat trick for reversing a list, try to understand what it's doing\n",
        "sample_list[::-1]"
      ]
    },
    {
      "cell_type": "markdown",
      "metadata": {
        "id": "A7N-cBC6m2uC"
      },
      "source": [
        "You can add element to an existing list ..."
      ]
    },
    {
      "cell_type": "code",
      "execution_count": null,
      "metadata": {
        "id": "SRicsJiwm2uC"
      },
      "outputs": [],
      "source": [
        "# at the end ...\n",
        "sample_list.append(11)\n",
        "\n",
        "# or somewhere in the middle\n",
        "# syntax: insert(index, new_value)\n",
        "sample_list.insert(1, 0.5)\n",
        "\n",
        "print(sample_list)"
      ]
    },
    {
      "cell_type": "markdown",
      "metadata": {
        "id": "7E_FitrDm2uC"
      },
      "source": [
        "or remove an element ..."
      ]
    },
    {
      "cell_type": "code",
      "execution_count": null,
      "metadata": {
        "id": "n54Tc5VKm2uC"
      },
      "outputs": [],
      "source": [
        "# remove the first instance of a given value in the list\n",
        "sample_list.remove(0.5)\n",
        "\n",
        "# or remove the element on a specified index\n",
        "sample_list.pop(0)\n",
        "\n",
        "sample_list"
      ]
    },
    {
      "cell_type": "markdown",
      "metadata": {
        "id": "kzhnFuRym2uC"
      },
      "source": [
        "or change an element using its index ..."
      ]
    },
    {
      "cell_type": "code",
      "execution_count": null,
      "metadata": {
        "id": "88l7gL0Em2uC"
      },
      "outputs": [],
      "source": [
        "sample_list[-1] = 12\n",
        "sample_list"
      ]
    },
    {
      "cell_type": "markdown",
      "metadata": {
        "id": "MzLNnQ1Ym2uC"
      },
      "source": [
        "or many other things ...\n",
        "\n",
        "See the full range of possibility [here](https://www.w3schools.com/python/python_ref_list.asp)."
      ]
    },
    {
      "cell_type": "markdown",
      "metadata": {
        "id": "rr9pOwtym2uC"
      },
      "source": [
        "If you thought typing out every number from 0 to 10 was an inefficient way of creating a list, you will be glad to learn about the `range()` function.\n",
        "\n",
        "Syntax: `range(start (inclusive), end (exclusive), step)`\n",
        "\n",
        "Pro tip: if you only specify `end`, Python will give you every integer from 0 up to the one before `end`."
      ]
    },
    {
      "cell_type": "code",
      "execution_count": null,
      "metadata": {
        "id": "gI-T9SV2m2uC"
      },
      "outputs": [],
      "source": [
        "# let's recreate the list of numbers from 0 to 10 using range()\n",
        "# The output of range()'s type is range, not list. We need to convert it with list()\n",
        "sample_list = list(range(11))\n",
        "sample_list"
      ]
    },
    {
      "cell_type": "markdown",
      "metadata": {
        "id": "xSe1izgmm2uC"
      },
      "source": [
        "##### 1.2.1 Tuple"
      ]
    },
    {
      "cell_type": "markdown",
      "metadata": {
        "id": "utz2mshkm2uD"
      },
      "source": [
        "Python tuples are list-like data structures with one important difference."
      ]
    },
    {
      "cell_type": "code",
      "execution_count": null,
      "metadata": {
        "id": "xjjeP1LOm2uD"
      },
      "outputs": [],
      "source": [
        "# You can create them with parenthesis\n",
        "\n",
        "empty_tuple = tuple()\n",
        "\n",
        "sample_tuple = (1, 2, 3, 4)\n",
        "\n",
        "print(empty_tuple, sample_tuple)"
      ]
    },
    {
      "cell_type": "markdown",
      "metadata": {
        "id": "Ch3fSouVm2uD"
      },
      "source": [
        "Indexing tuples is just like indexing lists"
      ]
    },
    {
      "cell_type": "code",
      "execution_count": null,
      "metadata": {
        "id": "5J-CCHtpm2uD"
      },
      "outputs": [],
      "source": [
        "print(sample_tuple[1], sample_tuple[-3])"
      ]
    },
    {
      "cell_type": "markdown",
      "metadata": {
        "id": "uhfdDfmKm2uD"
      },
      "source": [
        "Crucially, tuples can NOT be modified once created.\n",
        "\n",
        "Tuples are *immutable*. While this property makes them less versatile than lists, it sometimes come in handy. For example, tuples can be used as keys in dictionaries (next section)."
      ]
    },
    {
      "cell_type": "code",
      "execution_count": null,
      "metadata": {
        "id": "T9wwOyJym2uD"
      },
      "outputs": [],
      "source": [
        "# try to overwrite an item in a tuple\n",
        "\n",
        "try:\n",
        "    sample_tuple[-1] = 10\n",
        "except TypeError as e:\n",
        "    print(e)"
      ]
    },
    {
      "cell_type": "markdown",
      "metadata": {
        "id": "ZaYPFfCem2uD"
      },
      "source": [
        "##### 1.2.2 Dictionary"
      ]
    },
    {
      "cell_type": "markdown",
      "metadata": {
        "id": "Do3jXaXLm2uD"
      },
      "source": [
        "Dictionary is a way to store pairs of values, known as keys and values, with some associations to each other."
      ]
    },
    {
      "cell_type": "code",
      "execution_count": null,
      "metadata": {
        "id": "RT_8yPtVm2uD"
      },
      "outputs": [],
      "source": [
        "# You can create an empty dictionary in two ways\n",
        "empty_dict1 = dict()\n",
        "empty_dict2 = {}\n",
        "\n",
        "print(empty_dict1, empty_dict2)"
      ]
    },
    {
      "cell_type": "code",
      "execution_count": null,
      "metadata": {
        "id": "xCm4o60Om2uD"
      },
      "outputs": [],
      "source": [
        "# You can also create dictionaries by specifying the key:value pairs\n",
        "panda_express_pricing = {\"Bowl\":5.80, \"Plate\":6.80, \"Bigger Plate\":8.30}"
      ]
    },
    {
      "cell_type": "markdown",
      "metadata": {
        "id": "NxltmxCYm2uD"
      },
      "source": [
        "You index a dictionary with a key and gets its associated value."
      ]
    },
    {
      "cell_type": "code",
      "execution_count": null,
      "metadata": {
        "id": "U5Y-Cgv2m2uD"
      },
      "outputs": [],
      "source": [
        "bowl_price = panda_express_pricing[\"Bowl\"]\n",
        "bowl_price"
      ]
    },
    {
      "cell_type": "markdown",
      "metadata": {
        "id": "8Pk73ritm2uD"
      },
      "source": [
        "Be careful to not index a key that doesn't exist in the dictionary because that will cause an error.\n",
        "\n",
        "If you are not sure whether a key is in the dictionary or not, use the [get](https://www.w3schools.com/python/ref_dictionary_get.asp) method to be safe."
      ]
    },
    {
      "cell_type": "code",
      "execution_count": null,
      "metadata": {
        "id": "4H3-Fghlm2uD"
      },
      "outputs": [],
      "source": [
        "# try to eat buffet at Panda express\n",
        "buffet_price = panda_express_pricing[\"Buffet\"]"
      ]
    },
    {
      "cell_type": "markdown",
      "metadata": {
        "id": "P2unj9glm2uD"
      },
      "source": [
        "It follows that you can change the value associated with a key.\n"
      ]
    },
    {
      "cell_type": "code",
      "execution_count": null,
      "metadata": {
        "id": "5twOhpQOm2uD"
      },
      "outputs": [],
      "source": [
        "# let's say Panda Express has a sale on the bowls\n",
        "panda_express_pricing[\"Bowl\"] = 5.00\n",
        "bowl_price = panda_express_pricing[\"Bowl\"]\n",
        "bowl_price"
      ]
    },
    {
      "cell_type": "markdown",
      "metadata": {
        "id": "iiyy5Xg1m2uD"
      },
      "source": [
        "There is, however, no easy way to modify the key associated with a value."
      ]
    },
    {
      "cell_type": "code",
      "execution_count": null,
      "metadata": {
        "id": "Rdh49X-Gm2uD"
      },
      "outputs": [],
      "source": [
        "# You can see a list of all the keys in a dictionary\n",
        "panda_express_pricing.keys()"
      ]
    },
    {
      "cell_type": "code",
      "execution_count": null,
      "metadata": {
        "id": "T9tFFXYOm2uD"
      },
      "outputs": [],
      "source": [
        "# Or a list of all values\n",
        "panda_express_pricing.values()"
      ]
    },
    {
      "cell_type": "code",
      "execution_count": null,
      "metadata": {
        "id": "SqluQGrqm2uD"
      },
      "outputs": [],
      "source": [
        "# Or a list of key value pairs, represented as tuples\n",
        "panda_express_pricing.items()"
      ]
    },
    {
      "cell_type": "markdown",
      "metadata": {
        "id": "siouPleOm2uD"
      },
      "source": [
        "See everything you can do with dictionaries [here](https://www.w3schools.com/python/python_ref_dictionary.asp)."
      ]
    },
    {
      "cell_type": "markdown",
      "metadata": {
        "id": "Dv4kknY7m2uD"
      },
      "source": [
        "##### 1.2.3 Set"
      ]
    },
    {
      "cell_type": "markdown",
      "metadata": {
        "id": "yRNEsV_Rm2uD"
      },
      "source": [
        "Sets store unique elements."
      ]
    },
    {
      "cell_type": "code",
      "execution_count": null,
      "metadata": {
        "id": "4G4oDMBTm2uD"
      },
      "outputs": [],
      "source": [
        "# You can only create sets with set(); (), [], {} are all taken\n",
        "\n",
        "s = set([1,2,3,1,2,3])\n",
        "s"
      ]
    },
    {
      "cell_type": "code",
      "execution_count": null,
      "metadata": {
        "id": "4HvDrGoYm2uE"
      },
      "outputs": [],
      "source": [
        "# Add new elements to a set\n",
        "s.add(3)\n",
        "s.add(4)\n",
        "s"
      ]
    },
    {
      "cell_type": "code",
      "execution_count": null,
      "metadata": {
        "id": "7Rr2iT-Cm2uE"
      },
      "outputs": [],
      "source": [
        "# Remove elements in the set\n",
        "s.discard(1)\n",
        "s.discard(2)"
      ]
    },
    {
      "cell_type": "markdown",
      "metadata": {
        "id": "lacdtBNpm2uE"
      },
      "source": [
        "There are many set operations that can be performed between two sets. We will not go into them here. You can see a list on this [page](https://www.w3schools.com/python/python_ref_set.asp)."
      ]
    },
    {
      "cell_type": "markdown",
      "metadata": {
        "id": "Shpf23Pwm2uE"
      },
      "source": [
        "#### 1.2.4 Container Utilities"
      ]
    },
    {
      "cell_type": "markdown",
      "metadata": {
        "id": "-NkqdvOpm2uE"
      },
      "source": [
        "You can use `len()` to find the number of items in each of the above four containers."
      ]
    },
    {
      "cell_type": "code",
      "execution_count": null,
      "metadata": {
        "id": "Um-bBAdTm2uE"
      },
      "outputs": [],
      "source": [
        "l = [1,2,3]\n",
        "t = (1,2,3)\n",
        "d = {1:'a', 2:'b', 3:'c'}\n",
        "s = set([1, 2, 3])\n",
        "\n",
        "print(len(l), len(t), len(d), len(s))"
      ]
    },
    {
      "cell_type": "markdown",
      "metadata": {
        "id": "QMNprcWJm2uE"
      },
      "source": [
        "And use the `in` keyword to check if an element is in the container or not.\n",
        "\n",
        "For dictionaries, you can only use this to check whether a key is in the dictionary or not."
      ]
    },
    {
      "cell_type": "code",
      "execution_count": null,
      "metadata": {
        "id": "HHAewe4hm2uE"
      },
      "outputs": [],
      "source": [
        "print(1 in l)\n",
        "print(4 in t)\n",
        "print(2 in d)\n",
        "print(0 in s)"
      ]
    },
    {
      "cell_type": "markdown",
      "metadata": {
        "id": "2bqH9hHAm2uE"
      },
      "source": [
        "## 2. Control Flow"
      ]
    },
    {
      "cell_type": "markdown",
      "metadata": {
        "id": "oFazzG6lm2uE"
      },
      "source": [
        "You can use `if` statements to execute different actions in different scenarios.\n",
        "\n",
        "Before we dive in, a quick aside on comparing numbers:\n",
        "- Use `==` to check equality\n",
        "- Use `!=` to check inequality\n",
        "- Use `<`, `>`, `>=`, and `<=` to compare two numbers"
      ]
    },
    {
      "cell_type": "code",
      "execution_count": null,
      "metadata": {
        "id": "CVh4Q23fm2uE"
      },
      "outputs": [],
      "source": [
        "# Here is the general idea of if statements\n",
        "# if (condition evalutes to true):\n",
        "#   execute code here\n",
        "\n",
        "to_print_or_not_to_print = True\n",
        "\n",
        "if to_print_or_not_to_print:\n",
        "    # Most code editors will automatically indent the lines inside an if statement for you\n",
        "    # It doesn't matter whether you use tabs or spaces to indent or how much you indent (two or four spaces are common)\n",
        "    # Just be consistent! Your code will not work without consistent indentation!\n",
        "\n",
        "    print(\"The first block of code is executed\")\n",
        "\n",
        "to_print_or_not_to_print = False\n",
        "\n",
        "if to_print_or_not_to_print:\n",
        "    print(\"The second block of code is executed\")\n"
      ]
    },
    {
      "cell_type": "markdown",
      "metadata": {
        "id": "1W8h5TjNm2uE"
      },
      "source": [
        "We can use more complex conditions for `if` statements."
      ]
    },
    {
      "cell_type": "code",
      "execution_count": null,
      "metadata": {
        "id": "xQjA-JPgm2uE"
      },
      "outputs": [],
      "source": [
        "if 4 < 5 and 6 >= 6 and len(list(range(3))) == 3:\n",
        "    print(\"The first block of code is executed\")\n",
        "\n",
        "if 4 != 4 or 6 > 7 or -1 < 0:\n",
        "    print(\"The second block of code is executed\")"
      ]
    },
    {
      "cell_type": "markdown",
      "metadata": {
        "id": "LyivhAS1m2uE"
      },
      "source": [
        "An `if ... else` scheme can handle both when the condition is true and false."
      ]
    },
    {
      "cell_type": "code",
      "execution_count": null,
      "metadata": {
        "id": "ll1MCKa0m2uE"
      },
      "outputs": [],
      "source": [
        "to_print_or_not_to_print = True\n",
        "\n",
        "if to_print_or_not_to_print:\n",
        "    # indented\n",
        "    print(\"printing\")\n",
        "# unindented\n",
        "else:\n",
        "    # indented\n",
        "    print(\"not printing\")\n",
        "\n",
        "to_print_or_not_to_print = False\n",
        "\n",
        "if to_print_or_not_to_print:\n",
        "    print(\"printing\")\n",
        "else:\n",
        "    print(\"not printing\")"
      ]
    },
    {
      "cell_type": "markdown",
      "metadata": {
        "id": "8bfkkJtcm2uE"
      },
      "source": [
        "`if ... elif ... else` schemes can handle many different scenarios.\n",
        "\n",
        "You can have `elif` without `else` but all `elif` must appear before `else`."
      ]
    },
    {
      "cell_type": "code",
      "execution_count": null,
      "metadata": {
        "id": "ALx7aS7im2uE"
      },
      "outputs": [],
      "source": [
        "uniqname = \"ENTER YOUR UNIQNAME HERE\"\n",
        "\n",
        "if len(uniqname) <= 4:\n",
        "    print(\"Short\")\n",
        "elif len(uniqname) < 8:\n",
        "    print(\"Medium\")\n",
        "else:\n",
        "    print(\"Long\")"
      ]
    },
    {
      "cell_type": "markdown",
      "metadata": {
        "id": "UMoXOR3Em2uE"
      },
      "source": [
        "## 3. Iterating"
      ]
    },
    {
      "cell_type": "markdown",
      "metadata": {
        "id": "fcLpSjSam2uE"
      },
      "source": [
        "### 3.0 For Loops"
      ]
    },
    {
      "cell_type": "markdown",
      "metadata": {
        "id": "ETFzdzvmm2uE"
      },
      "source": [
        "Lists, tuples, sets, dictionaries, strings, and ranges are all *iterables*. That just means we can move through them in a certain order.\n",
        "\n",
        "This property is useful for simplifying repeated actions."
      ]
    },
    {
      "cell_type": "markdown",
      "metadata": {
        "id": "H5HJyCtlm2uE"
      },
      "source": [
        "Say we have a list of numbers and we want to print each of them, doubled.\n",
        "\n",
        "We can use the index to access, multiply, and print each of them but that's inefficient.\n",
        "\n",
        "For loops to the rescue."
      ]
    },
    {
      "cell_type": "code",
      "execution_count": null,
      "metadata": {
        "id": "ogssOSEmm2uE"
      },
      "outputs": [],
      "source": [
        "nums = list(range(5))\n",
        "\n",
        "for num in nums:\n",
        "    print(num*2)\n"
      ]
    },
    {
      "cell_type": "code",
      "execution_count": null,
      "metadata": {
        "id": "S2-w-hg0m2uE"
      },
      "outputs": [],
      "source": [
        "# What is actually going on here?\n",
        "#\n",
        "# in nums specifies the iterable to go through, nums in this case\n",
        "# num is what is called an iterator. i, j, and k are common iterator names but num makes more sense here\n",
        "#\n",
        "# for num in nums:\n",
        "#     indent!\n",
        "#     num is set to an element in the nums list and the action is executed\n",
        "#     print(num*2)\n",
        "#     num is set to the next element in the nums list\n",
        "#\n",
        "# in this case, we iterated through the elements of the list"
      ]
    },
    {
      "cell_type": "code",
      "execution_count": null,
      "metadata": {
        "id": "csGCZN4Ym2uF"
      },
      "outputs": [],
      "source": [
        "# Another common pattern is to iterate through the indices\n",
        "# let's print out the indices that has an even number on them\n",
        "\n",
        "for i in range(len(nums)):\n",
        "    # range(len(nums)) gives all the indices in the nums list\n",
        "    # nums has 5 elements so range(len(nums)) looks like 0, 1, 2, 3, 4\n",
        "    # you will see this all the time in for loops\n",
        "\n",
        "    if nums[i] % 2 == 0:\n",
        "        print(i)"
      ]
    },
    {
      "cell_type": "markdown",
      "metadata": {
        "id": "Zg8W1JMdm2uF"
      },
      "source": [
        "One more example:\n",
        "\n",
        "Make a new list containing the items in nums squared.\n"
      ]
    },
    {
      "cell_type": "code",
      "execution_count": null,
      "metadata": {
        "id": "9FJd31LAm2uF"
      },
      "outputs": [],
      "source": [
        "squared_nums = []\n",
        "\n",
        "for num in nums:\n",
        "    squared_nums.append(num ** 2)\n",
        "\n",
        "squared_nums"
      ]
    },
    {
      "cell_type": "markdown",
      "metadata": {
        "id": "8L-DEgmfm2uF"
      },
      "source": [
        "Sometimes it is useful to iterate through both the element and index at the same time.\n",
        "\n",
        "Look into [`enumerate`](https://realpython.com/python-enumerate/)."
      ]
    },
    {
      "cell_type": "markdown",
      "metadata": {
        "id": "pTqHOOoum2uF"
      },
      "source": [
        "### 3.1. List Comprehension (Optional)"
      ]
    },
    {
      "cell_type": "markdown",
      "metadata": {
        "id": "Xn99E5cbm2uF"
      },
      "source": [
        "Here we present a nice feature of Python that allows creating lists using a shorthand of for loops."
      ]
    },
    {
      "cell_type": "code",
      "execution_count": null,
      "metadata": {
        "id": "4qeerxX6m2uF"
      },
      "outputs": [],
      "source": [
        "# every letter in MDST\n",
        "letters = [letter for letter in \"MDST\"]\n",
        "letters"
      ]
    },
    {
      "cell_type": "code",
      "execution_count": null,
      "metadata": {
        "id": "3aeostI0m2uF"
      },
      "outputs": [],
      "source": [
        "# Modify the iterator\n",
        "# Let's redo the squared_nums example from the previous section\n",
        "\n",
        "squared_nums = [num**2 for num in nums]\n",
        "squared_nums"
      ]
    },
    {
      "cell_type": "code",
      "execution_count": null,
      "metadata": {
        "id": "3zKLYfrym2uF"
      },
      "outputs": [],
      "source": [
        "# Modify the iterator differently based on some conditions\n",
        "# Square the number if it is even, else cube it\n",
        "\n",
        "squares_and_cubes = [num**2 if num % 2 == 0 else num**3 for num in nums]\n",
        "squares_and_cubes"
      ]
    },
    {
      "cell_type": "code",
      "execution_count": null,
      "metadata": {
        "id": "PT7Dz4WVm2uF"
      },
      "outputs": [],
      "source": [
        "# Filter the iterator\n",
        "# Triple the number only if it is odd\n",
        "\n",
        "triples = [num*3 for num in nums if num % 2 == 1]\n",
        "triples"
      ]
    },
    {
      "cell_type": "code",
      "execution_count": null,
      "metadata": {
        "id": "irXa4kY8m2uF"
      },
      "outputs": [],
      "source": [
        "# chained comprehension\n",
        "# numbers from 1 to 20, in 3-number segments\n",
        "\n",
        "segments = [[i for i in range(start, start+3)] for start in range(0, 20, 3)]\n",
        "segments"
      ]
    },
    {
      "cell_type": "markdown",
      "metadata": {
        "id": "2le25APgm2uF"
      },
      "source": [
        "## 4. Functions"
      ]
    },
    {
      "cell_type": "markdown",
      "metadata": {
        "id": "iqAQsHDam2uF"
      },
      "source": [
        "### 4.0 Import & Library"
      ]
    },
    {
      "cell_type": "markdown",
      "metadata": {
        "id": "pY-8rL4Qm2uF"
      },
      "source": [
        "Libraries (aka packages) are codes that other people have developed for you to use. Python has tons of cool and interesting libraries.\n",
        "\n",
        "You can start using them in your notebooks with the `import` key word."
      ]
    },
    {
      "cell_type": "code",
      "execution_count": null,
      "metadata": {
        "id": "sdi60MBSm2uF"
      },
      "outputs": [],
      "source": [
        "# There is always a relevant xkcd\n",
        "\n",
        "import antigravity"
      ]
    },
    {
      "cell_type": "markdown",
      "metadata": {
        "id": "FVM2bWE0m2uF"
      },
      "source": [
        "Most libraries are more elaborate and contain many functionalities."
      ]
    },
    {
      "cell_type": "code",
      "execution_count": null,
      "metadata": {
        "id": "h_7Ry_enm2uF"
      },
      "outputs": [],
      "source": [
        "# Once a library is imported, you can start using the functions and methods they have\n",
        "import random\n",
        "random.randint(1, 10)"
      ]
    },
    {
      "cell_type": "code",
      "execution_count": null,
      "metadata": {
        "id": "4Q4RyOIqm2uF"
      },
      "outputs": [],
      "source": [
        "# If you know what function you need, you can also import it specifically\n",
        "from random import randint\n",
        "\n",
        "# If you do it this way, you can use randint directly instead of typing out random.randint()\n",
        "\n",
        "randint(1, 10)"
      ]
    },
    {
      "cell_type": "code",
      "execution_count": null,
      "metadata": {
        "id": "K_UVYe-1m2uF"
      },
      "outputs": [],
      "source": [
        "# Sometimes function or library names are very long\n",
        "# You can use the as key word to rename imports\n",
        "\n",
        "from random import randrange as r\n",
        "\n",
        "r(1, 10)"
      ]
    },
    {
      "cell_type": "markdown",
      "metadata": {
        "id": "ehfpniwYm2uF"
      },
      "source": [
        "### 4.1 Built-in Function"
      ]
    },
    {
      "cell_type": "markdown",
      "metadata": {
        "id": "h3owWSNCm2uF"
      },
      "source": [
        "We present some more built-in functions that may be useful for completing the checkpoints.\n",
        "\n",
        "You can find documentation for all of them [here](https://docs.python.org/3/library/functions.html)."
      ]
    },
    {
      "cell_type": "code",
      "execution_count": null,
      "metadata": {
        "id": "RPpbouMbm2uF"
      },
      "outputs": [],
      "source": [
        "max([3,4,5])"
      ]
    },
    {
      "cell_type": "code",
      "execution_count": null,
      "metadata": {
        "id": "7YI1rUZOm2uF"
      },
      "outputs": [],
      "source": [
        "min([-3,3,9])"
      ]
    },
    {
      "cell_type": "code",
      "execution_count": null,
      "metadata": {
        "id": "MIuwMgLlm2uF"
      },
      "outputs": [],
      "source": [
        "sum([1,3,5])"
      ]
    },
    {
      "cell_type": "code",
      "execution_count": null,
      "metadata": {
        "id": "jY0dyFWEm2uG"
      },
      "outputs": [],
      "source": [
        "round(3.8)"
      ]
    },
    {
      "cell_type": "code",
      "execution_count": null,
      "metadata": {
        "id": "FMqWG3HCm2uG"
      },
      "outputs": [],
      "source": [
        "round(3.36394, 3)"
      ]
    },
    {
      "cell_type": "code",
      "execution_count": null,
      "metadata": {
        "id": "zi5KtQ7_m2uG"
      },
      "outputs": [],
      "source": [
        "abs(-3)"
      ]
    },
    {
      "cell_type": "markdown",
      "metadata": {
        "id": "djbGxfutm2uG"
      },
      "source": [
        "### 4.2 Custom Function"
      ]
    },
    {
      "cell_type": "markdown",
      "metadata": {
        "id": "xDckX8JTm2uG"
      },
      "source": [
        "Functions are great ways to reduce code duplication and repetition.\n",
        "\n",
        "Functions can be used to carry out specific actions. We will slowly build up to a function that outputs custom greeting messages."
      ]
    },
    {
      "cell_type": "markdown",
      "metadata": {
        "id": "HKWIzm2Nm2uG"
      },
      "source": [
        "Let's start by having the function just print \"Hi\"."
      ]
    },
    {
      "cell_type": "code",
      "execution_count": null,
      "metadata": {
        "id": "pSZqfrgwm2uG"
      },
      "outputs": [],
      "source": [
        "# The first line in a function is the function header. It starts with the def key word, followed by the function name\n",
        "def greet():\n",
        "    # Indent!\n",
        "    print(\"Hi\")\n",
        "\n",
        "greet()"
      ]
    },
    {
      "cell_type": "markdown",
      "metadata": {
        "id": "tZwarXrHm2uG"
      },
      "source": [
        "Not exactly a custom message. It would be nice if we can greet people by their names."
      ]
    },
    {
      "cell_type": "code",
      "execution_count": null,
      "metadata": {
        "id": "yZQ9qBEvm2uG"
      },
      "outputs": [],
      "source": [
        "# We can shape a function's behavior by adding arguments. These appear in the parenthesis after the function name.\n",
        "# Note: the name on this line names an argument to the greet function\n",
        "def greet(name):\n",
        "    print(\"Hi \" + name)\n",
        "\n",
        "name = \"ENTER YOUR NAME HERE\"\n",
        "\n",
        "# Note: the name on this line refers to the name variable\n",
        "greet(name)"
      ]
    },
    {
      "cell_type": "markdown",
      "metadata": {
        "id": "MyTYUZetm2uG"
      },
      "source": [
        "Maybe you are excited to see the person, in which case some exclamation marks are in order.\n",
        "\n",
        "Usually, 1 is good."
      ]
    },
    {
      "cell_type": "code",
      "execution_count": null,
      "metadata": {
        "id": "_zPjeTq4m2uG"
      },
      "outputs": [],
      "source": [
        "# You can set default values for arguments. The function will use those defaults if the argument is not provided.\n",
        "# On the contrary, arguments without default values have to be specified\n",
        "def greet(name, num_exclamation=1):\n",
        "    print(\"Hi \" + name + '!'*num_exclamation)\n",
        "\n",
        "greet(name)"
      ]
    },
    {
      "cell_type": "code",
      "execution_count": null,
      "metadata": {
        "id": "e8rdkoRWm2uI"
      },
      "outputs": [],
      "source": [
        "# You can of course use different values for all your default arguments.\n",
        "# Python will try to match arguments using the order listed in the header\n",
        "greet(name, 3)\n",
        "\n",
        "# or you can mix up the order by referring to the arguments by their names\n",
        "greet(num_exclamation=2, name=name)"
      ]
    },
    {
      "cell_type": "markdown",
      "metadata": {
        "id": "bawa3iWam2uI"
      },
      "source": [
        "Functions don't have to interface with users directly. They can also be used to perform computations and return the results."
      ]
    },
    {
      "cell_type": "code",
      "execution_count": null,
      "metadata": {
        "id": "KEzG-dJ8m2uI"
      },
      "outputs": [],
      "source": [
        "def round_to_hundreds(num):\n",
        "    rounded = round(num / 100) * 100\n",
        "\n",
        "print(round_to_hundreds(168))"
      ]
    },
    {
      "cell_type": "markdown",
      "metadata": {
        "id": "BsZ3Ud2-m2uI"
      },
      "source": [
        "Weird, we expected 2 but received `None`.\n",
        "\n",
        "This is because we forgot to get the function to make its output available for other parts of the program to use.\n",
        "\n",
        "In its current state, the output of the function (`rounded`) is inaccessible.\n",
        "\n",
        "This is where `return` comes into play."
      ]
    },
    {
      "cell_type": "code",
      "execution_count": null,
      "metadata": {
        "id": "WenaRczom2uI"
      },
      "outputs": [],
      "source": [
        "def round_to_hundreds(num):\n",
        "    rounded = round(num / 100) * 100\n",
        "\n",
        "    # returning is making the output available for other codes\n",
        "    return rounded\n",
        "\n",
        "print(round_to_hundreds(168))"
      ]
    },
    {
      "cell_type": "markdown",
      "metadata": {
        "id": "fZ4-eUZRm2uI"
      },
      "source": [
        "### 4.3 Lambda Function (Optional)"
      ]
    },
    {
      "cell_type": "markdown",
      "metadata": {
        "id": "0CrZa30Ym2uI"
      },
      "source": [
        "Lambda function is a shorthand way to write simple functions. It is useful in many context but you will find it a great help when you are performing data transformation."
      ]
    },
    {
      "cell_type": "code",
      "execution_count": null,
      "metadata": {
        "id": "I9wTEqCXm2uI"
      },
      "outputs": [],
      "source": [
        "# Let's define a function that applies or to two boolean values and return the opposite of that result\n",
        "def or_reverse(bool1, bool2):\n",
        "    return not (bool1 or bool2)\n",
        "\n",
        "or_reverse(True, False)"
      ]
    },
    {
      "cell_type": "code",
      "execution_count": null,
      "metadata": {
        "id": "Ay3YNUL3m2uI"
      },
      "outputs": [],
      "source": [
        "# This is how the same function will look in lambda notation\n",
        "lambda_or_reverse = lambda bool1, bool2: not (bool1 or bool2)\n",
        "\n",
        "lambda_or_reverse(True, False)"
      ]
    },
    {
      "cell_type": "markdown",
      "metadata": {
        "id": "nSM1xr7Jm2uI"
      },
      "source": [
        "### 4.4 Type Hinting (Optional)\n",
        "\n",
        "Type hinting allows you to indicate the expected data types of variables, function arguments, and return values.\n",
        "\n",
        "They are optional annotations that makes Python easier to read and debug; type hinting is especially nice for keeping track of data types as your codebase gets larger."
      ]
    },
    {
      "cell_type": "code",
      "execution_count": null,
      "metadata": {
        "id": "BSKode6zm2uI"
      },
      "outputs": [],
      "source": [
        "# These two variable assignments are equivalent:\n",
        "name = \"deckard\"\n",
        "name: str = \"deckard\"  # type hinted declaration (var_name: var_type)\n",
        "\n",
        "# Python is a dynamically typed language; it does not require the type of a variable to be declared, and a variable's type can change during runtime\n",
        "name = 26354\n",
        "print(type(name))  # <class 'int'>\n",
        "\n",
        "# Type hinting for functions follows a similar format. \"-> None\" indicates that there isn't anything to return\n",
        "def greet(name: str, num_exclamation: int = 1) -> None:\n",
        "    print(\"Hi \" + str(name) + '!'*num_exclamation)\n",
        "\n",
        "# For flexability, Python doesn't actually require passed argument types to match their respective annotated types\n",
        "greet(name)\n",
        "\n",
        "# This line, however, causes a TypeError inside of the function due to an unexpected type mismatch\n",
        "# greet(name, 1.00)"
      ]
    },
    {
      "cell_type": "code",
      "execution_count": null,
      "metadata": {
        "id": "u3qruZBBm2uI"
      },
      "outputs": [],
      "source": [
        "# the typing library can be used for more specific type hinting\n",
        "from typing import Any, Union, Optional, Callable\n",
        "\n",
        "\n",
        "# Container types can be annotated using square brackets\n",
        "list_of_ints: list[int] = [1, 2, 3]\n",
        "tuple_of_stuff: tuple[Any, Any] = (4.0, [5])\n",
        "\n",
        "\n",
        "# Union[] or | specify that a variable can be one of multiple specific types\n",
        "X_1: Union[int, float, bool] = 1.982\n",
        "X_2: Union[int, float, bool] = 61021\n",
        "X_3: int|float|bool = False\n",
        "\n",
        "# Optional[] specifies that a variable can also be None\n",
        "delivery_charge: Optional[int|float] = 3.99"
      ]
    },
    {
      "cell_type": "code",
      "execution_count": null,
      "metadata": {
        "id": "o36uIz4Bm2uI"
      },
      "outputs": [],
      "source": [
        "# This function returns a (int, float) tuple\n",
        "def cottage_inn_order(n_students: int, delivery_charge: Optional[int|float] = None) -> tuple[int, float]:\n",
        "    n_pizzas = (n_students // 32) + 1\n",
        "    subtotal = n_pizzas * 34.98\n",
        "\n",
        "    if delivery_charge is not None:\n",
        "        subtotal += delivery_charge\n",
        "\n",
        "    return n_pizzas, subtotal * 1.06\n",
        "\n",
        "# We can tell at a glance that this function expects a (int, float) tuple as input\n",
        "def print_pizza(info: tuple[int, float]) -> None:\n",
        "    print(info[0], \" pizzas, costing $\", round(info[1], 2), sep=\"\")\n",
        "\n",
        "print_pizza(cottage_inn_order(n_students = 150))\n",
        "\n",
        "# Callable specifies arguments that are functions, for precise hinting you can use Callable[[arg_types], return_type]\n",
        "def print_pizza(\n",
        "    n_students: int,\n",
        "    order_func: Callable = cottage_inn_order,\n",
        "    delivery_charge: Optional[int|float] = None\n",
        ") -> None:\n",
        "    info = order_func(n_students, delivery_charge)\n",
        "    print(info[0], \" pizzas, costing $\", round(info[1], 2), sep=\"\")\n",
        "\n",
        "print_pizza(150)"
      ]
    },
    {
      "cell_type": "markdown",
      "metadata": {
        "id": "_VFWZYP_m2uI"
      },
      "source": [
        "## 5. Numpy"
      ]
    },
    {
      "cell_type": "markdown",
      "metadata": {
        "id": "LQF4bPjFm2uI"
      },
      "source": [
        "Numpy is short for *numerical python*, a library built for optimized operations on large arrays and matrices."
      ]
    },
    {
      "cell_type": "code",
      "execution_count": null,
      "metadata": {
        "id": "bhzKzmxEshti"
      },
      "outputs": [],
      "source": [
        "import numpy as np"
      ]
    },
    {
      "cell_type": "markdown",
      "metadata": {
        "id": "H28knoaeshtk"
      },
      "source": [
        "### 5.0 Array"
      ]
    },
    {
      "cell_type": "markdown",
      "metadata": {
        "id": "nL_s57RAm2uJ"
      },
      "source": [
        "Numpy arrays can be created from a Python list."
      ]
    },
    {
      "cell_type": "code",
      "execution_count": null,
      "metadata": {
        "id": "bxenjHiVshtl"
      },
      "outputs": [],
      "source": [
        "a = [1,2,3,4,5,6]\n",
        "b = np.array(a)\n",
        "b"
      ]
    },
    {
      "cell_type": "markdown",
      "metadata": {
        "id": "JEpNmBNBshtn"
      },
      "source": [
        "Right now, it looks an awful like a python list, but there are some key differences you should be aware of.\n",
        "\n",
        "Numpy arrays are:\n",
        "- homogeneous (all elements in an array have the same type)\n",
        "- multidimensional"
      ]
    },
    {
      "cell_type": "code",
      "execution_count": null,
      "metadata": {
        "id": "SHuivX63shtn"
      },
      "outputs": [],
      "source": [
        "# Homogeneous: all numpy arrays have an associated data type\n",
        "# numbers are usually ints or floats\n",
        "b.dtype"
      ]
    },
    {
      "cell_type": "code",
      "execution_count": null,
      "metadata": {
        "id": "fpW_SbqKshtp"
      },
      "outputs": [],
      "source": [
        "# Multidimensional: numpy arrays can have arbitrarily many dimensions\n",
        "# We can reshape b into a 3x2 matrix. This means 3 rows and 2 columns\n",
        "# Note: this doesn't change b. That's why we assign it to a new variable: m\n",
        "m = b.reshape(3, 2)\n",
        "m"
      ]
    },
    {
      "cell_type": "code",
      "execution_count": null,
      "metadata": {
        "id": "Bu9Tt2lyshtr"
      },
      "outputs": [],
      "source": [
        "# Each dimension is called an axis\n",
        "# The size across each axis is called the shape\n",
        "# These are two very important concepts!\n",
        "m.shape"
      ]
    },
    {
      "cell_type": "code",
      "execution_count": null,
      "metadata": {
        "id": "o4r6_HdVm2uJ"
      },
      "outputs": [],
      "source": [
        "# One numpy function worth highlighting is transpose\n",
        "# Essentially, the first row becomes the first column, the second row becomes the second column etc.\n",
        "\n",
        "m = m.transpose()\n",
        "m"
      ]
    },
    {
      "cell_type": "markdown",
      "metadata": {
        "id": "WfYP11qxsht7"
      },
      "source": [
        "### 5.1 Math"
      ]
    },
    {
      "cell_type": "markdown",
      "metadata": {
        "id": "Na1lXKY7m2uJ"
      },
      "source": [
        "Numpy gives us a lot of math functions to work with. You can find them all in the [documentation](https://numpy.org/doc/stable/reference/routines.math.html)."
      ]
    },
    {
      "cell_type": "code",
      "execution_count": null,
      "metadata": {
        "id": "ajGfySfqsht8"
      },
      "outputs": [],
      "source": [
        "np.sum(b)"
      ]
    },
    {
      "cell_type": "code",
      "execution_count": null,
      "metadata": {
        "id": "2HHhw_UIsht9"
      },
      "outputs": [],
      "source": [
        "np.mean(b)"
      ]
    },
    {
      "cell_type": "code",
      "execution_count": null,
      "metadata": {
        "id": "7TlQX0PAm2uJ"
      },
      "outputs": [],
      "source": [
        "# for convenience, you can also call\n",
        "b.mean()"
      ]
    },
    {
      "cell_type": "markdown",
      "metadata": {
        "id": "9AF-a3lhm2uJ"
      },
      "source": [
        "You can also apply these functions by axis.\n",
        "\n",
        "In general, `axis=0` means to operate by rows and `axis=1` means to operate by columns."
      ]
    },
    {
      "cell_type": "code",
      "execution_count": null,
      "metadata": {
        "id": "cEncBjsYshuA"
      },
      "outputs": [],
      "source": [
        "# summing by rows\n",
        "print(np.sum(m, axis=0))\n",
        "\n",
        "# summing by columns\n",
        "print(np.sum(m, axis=1))\n"
      ]
    },
    {
      "cell_type": "code",
      "execution_count": null,
      "metadata": {
        "id": "DP9ukfrlm2uJ"
      },
      "outputs": [],
      "source": [
        "# Unlike a regular list, you can do arithmetic on numpy arrays directly\n",
        "# In most cases, numpy will apply the arithmetic operations to each element\n",
        "\n",
        "print(m*3)\n",
        "print(m+3)\n",
        "print(np.power(m,2))"
      ]
    },
    {
      "cell_type": "markdown",
      "metadata": {
        "id": "FtA2OGg3m2uK"
      },
      "source": [
        "## 6. Pandas"
      ]
    },
    {
      "cell_type": "markdown",
      "metadata": {
        "id": "nMSaathom2uK"
      },
      "source": [
        "Pandas is another Python library which we will be using _a lot!_ It lets us handle data in tabular format and is well integrated with other libraries for plotting, machine learning, etc."
      ]
    },
    {
      "cell_type": "code",
      "execution_count": null,
      "metadata": {
        "id": "kFReInatshuE"
      },
      "outputs": [],
      "source": [
        "import pandas as pd"
      ]
    },
    {
      "cell_type": "markdown",
      "metadata": {
        "id": "rwfjdq2kshuF"
      },
      "source": [
        "### 6.0 Dataframes & Series"
      ]
    },
    {
      "cell_type": "markdown",
      "metadata": {
        "id": "6gnBT7Phm2uK"
      },
      "source": [
        "Pandas puts data into dataframes, which are made up of series."
      ]
    },
    {
      "cell_type": "code",
      "execution_count": null,
      "metadata": {
        "id": "oQmdbMiOshuG"
      },
      "outputs": [],
      "source": [
        "# here, we're reading in data from a 'csv', or comma-separated value, file\n",
        "df = pd.read_csv(\"../data/cereal.csv\")\n",
        "type(df)"
      ]
    },
    {
      "cell_type": "markdown",
      "metadata": {
        "id": "SpM80O5Wm2uK"
      },
      "source": [
        "A dataframe is like a table:"
      ]
    },
    {
      "cell_type": "code",
      "execution_count": null,
      "metadata": {
        "id": "tVtFmX1wm2uK"
      },
      "outputs": [],
      "source": [
        "df"
      ]
    },
    {
      "cell_type": "markdown",
      "metadata": {
        "id": "IFb316stm2uK"
      },
      "source": [
        "We can use `head()`, `tail()`, or `sample()` to take a look at the data."
      ]
    },
    {
      "cell_type": "code",
      "execution_count": null,
      "metadata": {
        "id": "wdxDQCS1shuI"
      },
      "outputs": [],
      "source": [
        "# head returns the first x rows of your specification in the dataframe. By default it returns the first 5\n",
        "# tail returns the last rows of the dataframe\n",
        "df.head(10)"
      ]
    },
    {
      "cell_type": "code",
      "execution_count": null,
      "metadata": {
        "id": "Zg1APEXAm2uK"
      },
      "outputs": [],
      "source": [
        "df.sample()"
      ]
    },
    {
      "cell_type": "markdown",
      "metadata": {
        "id": "ttjZgUtEm2uK"
      },
      "source": [
        "You can also use `describe()` to get a feel of the distribution of numerical columns."
      ]
    },
    {
      "cell_type": "code",
      "execution_count": null,
      "metadata": {
        "id": "tMQ1DtyEm2uK"
      },
      "outputs": [],
      "source": [
        "df.describe()"
      ]
    },
    {
      "cell_type": "markdown",
      "metadata": {
        "id": "RyY2nbXKm2uK"
      },
      "source": [
        "And use `.shape` and `.dtypes` to understand the property of the dataframe."
      ]
    },
    {
      "cell_type": "code",
      "execution_count": null,
      "metadata": {
        "id": "VphcgRIDm2uK"
      },
      "outputs": [],
      "source": [
        "df.shape"
      ]
    },
    {
      "cell_type": "code",
      "execution_count": null,
      "metadata": {
        "id": "A8kCn6xhm2uK"
      },
      "outputs": [],
      "source": [
        "# In Pandas, object can be a lot of things, such as strings in this case\n",
        "df.dtypes"
      ]
    },
    {
      "cell_type": "markdown",
      "metadata": {
        "id": "EcF1Fq3nm2uK"
      },
      "source": [
        "Each column is a pandas Series (pd.Series)."
      ]
    },
    {
      "cell_type": "code",
      "execution_count": null,
      "metadata": {
        "id": "D0RkFFaVshuK"
      },
      "outputs": [],
      "source": [
        "df[\"name\"]"
      ]
    },
    {
      "cell_type": "code",
      "execution_count": null,
      "metadata": {
        "id": "Ad0zvg5_shuL"
      },
      "outputs": [],
      "source": [
        "type(df[\"name\"])"
      ]
    },
    {
      "cell_type": "markdown",
      "metadata": {
        "id": "plEuhOnKm2uK"
      },
      "source": [
        "Series are similar to numpy arrays in many ways. They are both homogenous and share many operations."
      ]
    },
    {
      "cell_type": "code",
      "execution_count": null,
      "metadata": {
        "id": "8NIKtwCcshuN"
      },
      "outputs": [],
      "source": [
        "df[\"carbo\"].mean()"
      ]
    },
    {
      "cell_type": "markdown",
      "metadata": {
        "id": "JbP-0t5WshuS"
      },
      "source": [
        "## 6.1 Indexing"
      ]
    },
    {
      "cell_type": "markdown",
      "metadata": {
        "id": "U5h_VxsPm2uK"
      },
      "source": [
        "### 6.1.0 `loc` & `iloc`"
      ]
    },
    {
      "cell_type": "markdown",
      "metadata": {
        "id": "jaE6MNIim2uK"
      },
      "source": [
        "The index in a pandas series/dataframe can by any list of **unique** values (row number, ID, time, etc.)"
      ]
    },
    {
      "cell_type": "markdown",
      "metadata": {
        "id": "esCsjHSDm2uK"
      },
      "source": [
        "`iloc` is used to index by row number in a dataframe"
      ]
    },
    {
      "cell_type": "code",
      "execution_count": null,
      "metadata": {
        "id": "-vcZulmRshuT"
      },
      "outputs": [],
      "source": [
        "# The first row of the dataframe\n",
        "df.iloc[0]"
      ]
    },
    {
      "cell_type": "code",
      "execution_count": null,
      "metadata": {
        "id": "BukLcPbEshuV",
        "scrolled": true
      },
      "outputs": [],
      "source": [
        "# Select multiple rows at once\n",
        "df.iloc[[1, 2, 3]]"
      ]
    },
    {
      "cell_type": "code",
      "execution_count": null,
      "metadata": {
        "id": "L2u1_kfRm2uL"
      },
      "outputs": [],
      "source": [
        "# This syntax means all the list indicing methods can also be applied\n",
        "# Let's get every ten row in the dataset\n",
        "df.iloc[::10]"
      ]
    },
    {
      "cell_type": "markdown",
      "metadata": {
        "id": "Hfs1JUkJm2uL"
      },
      "source": [
        "We can specify a column to use as the index column. In this case, `name` makes the most sense.\n",
        "\n",
        "Remember, the index column should contain unique values only!"
      ]
    },
    {
      "cell_type": "code",
      "execution_count": null,
      "metadata": {
        "id": "OFqGjffmm2uL"
      },
      "outputs": [],
      "source": [
        "# see how the leftmost row is now replaced with the cereal names\n",
        "df_ = df.set_index('name')\n",
        "df_.head()"
      ]
    },
    {
      "cell_type": "markdown",
      "metadata": {
        "id": "nHH1Ldg0m2uL"
      },
      "source": [
        "`loc` is used to index by the series/dataframe index.\n",
        "\n",
        "In our case, that will be `name`. If no index is specified, `loc` behaves similarly to `iloc`."
      ]
    },
    {
      "cell_type": "code",
      "execution_count": null,
      "metadata": {
        "id": "Ko4weV9Am2uL"
      },
      "outputs": [],
      "source": [
        "df_.loc['All-Bran']"
      ]
    },
    {
      "cell_type": "markdown",
      "metadata": {
        "id": "szCcNm2sm2uL"
      },
      "source": [
        "By default, Pandas select all the columns. You can specify which columns to select with a list of column names."
      ]
    },
    {
      "cell_type": "code",
      "execution_count": null,
      "metadata": {
        "id": "2yjvTlEMm2uL"
      },
      "outputs": [],
      "source": [
        "df_.loc[\"All-Bran\"][[\"fat\", \"sodium\", \"sugars\"]]"
      ]
    },
    {
      "cell_type": "markdown",
      "metadata": {
        "id": "djo2xbKPm2uL"
      },
      "source": [
        "An alternate syntax for specifying which columns to select:"
      ]
    },
    {
      "cell_type": "code",
      "execution_count": null,
      "metadata": {
        "id": "1Q0dRZpom2uL"
      },
      "outputs": [],
      "source": [
        "df_.loc['All-Bran', [\"fat\", \"sodium\", \"sugars\"]]"
      ]
    },
    {
      "cell_type": "markdown",
      "metadata": {
        "id": "rs13JQf6m2uL"
      },
      "source": [
        "The first syntax works for `iloc` as well but not the second. If you want to do something similar to the second syntax for `iloc`, you need to use the column indices instead."
      ]
    },
    {
      "cell_type": "code",
      "execution_count": null,
      "metadata": {
        "id": "4r-iTg24m2uL"
      },
      "outputs": [],
      "source": [
        "# fat is the 6th column in the table, so its index is 5 etc\n",
        "df.iloc[2, [5, 6, 9]]"
      ]
    },
    {
      "cell_type": "markdown",
      "metadata": {
        "id": "UaIRov4Wm2uL"
      },
      "source": [
        "### 6.1.1 Conditional Indexing"
      ]
    },
    {
      "cell_type": "markdown",
      "metadata": {
        "id": "A0VdoVkLm2uL"
      },
      "source": [
        "Comparison operators (`==`, `!=`, `<`, `>`, `<=`, `>=`) work on Pandas series.\n",
        "\n",
        "The result is a series of the same size showing the result of the comparison element-by-element"
      ]
    },
    {
      "cell_type": "code",
      "execution_count": null,
      "metadata": {
        "id": "tXPOkpnvshuZ"
      },
      "outputs": [],
      "source": [
        "df[\"protein\"] > 3"
      ]
    },
    {
      "cell_type": "markdown",
      "metadata": {
        "id": "4aSflCNHm2uL"
      },
      "source": [
        "Pandas also allow selecting rows with a series of boolean values. Only the rows that corresponds to `True` will be selected.\n",
        "\n",
        "Combining the two features:"
      ]
    },
    {
      "cell_type": "code",
      "execution_count": null,
      "metadata": {
        "id": "AuoAkjxqshub"
      },
      "outputs": [],
      "source": [
        "# This gives us all the rows in which the protein is greater than 3.\n",
        "df[df[\"protein\"] > 3]"
      ]
    },
    {
      "cell_type": "code",
      "execution_count": null,
      "metadata": {
        "id": "Lk831yOim2uL"
      },
      "outputs": [],
      "source": [
        "# You can compare two columns\n",
        "# Get all the cereals with more protein than sugar\n",
        "df[df[\"protein\"] > df[\"sugars\"]]"
      ]
    },
    {
      "cell_type": "markdown",
      "metadata": {
        "id": "aVZZ6wx1m2uL"
      },
      "source": [
        "You can also chain multiple conditions with `and`, `or`, and `not`.\n",
        "\n",
        "However, due to Python's implementation details, you need to replace `and` with `&`, `or` with `|`, and `not` with `~` to use conditional indexing on a dataframe.\n",
        "\n",
        "Read more about why on this [post](https://stackoverflow.com/questions/21415661/logical-operators-for-boolean-indexing-in-pandas)."
      ]
    },
    {
      "cell_type": "code",
      "execution_count": null,
      "metadata": {
        "id": "6R5lt0GSm2uL"
      },
      "outputs": [],
      "source": [
        "# Let's find all the cereals with more than 3g of protein and less than 5g of sugar\n",
        "# You have to put each condition in parenthesis\n",
        "df[(df[\"protein\"] > 3) & (df[\"sugars\"] < 5)]"
      ]
    },
    {
      "cell_type": "markdown",
      "metadata": {
        "id": "oL2wYVpUshue"
      },
      "source": [
        "##  6.2 Data Transformation"
      ]
    },
    {
      "cell_type": "markdown",
      "metadata": {
        "id": "lNwc_f6em2uL"
      },
      "source": [
        "When we are processing data, it is common to add new columns based on existing columns.\n",
        "\n",
        "In the case of cereal dataframe, most measurements are standarized to 1 weight unit but 1 weight unit is one cup for one cereal and half a cup for another.\n",
        "\n",
        "We should probably add a column that documents how many weight units are in a cup for each cereal."
      ]
    },
    {
      "cell_type": "code",
      "execution_count": null,
      "metadata": {
        "id": "gy5xXkXPm2uM"
      },
      "outputs": [],
      "source": [
        "# Arithmetic between series in the same dataframe is quite simple\n",
        "# We will create a new column called \"weight_per_cup\"\n",
        "\n",
        "df[\"weight_per_cup\"] = df[\"weight\"] / df[\"cups\"]\n",
        "df.head()"
      ]
    },
    {
      "cell_type": "markdown",
      "metadata": {
        "id": "3NRChxtym2uM"
      },
      "source": [
        "We may also want to make changes to a specific column. We can do this with the `apply()` function."
      ]
    },
    {
      "cell_type": "code",
      "execution_count": null,
      "metadata": {
        "id": "wJMixASHshuf"
      },
      "outputs": [],
      "source": [
        "# Let's add \"Delicious \" to the beginning of every name\n",
        "\n",
        "# The pattern is we define a function for a single entry\n",
        "def make_delicious(name):\n",
        "    return \"Delicious \" + name\n",
        "\n",
        "# and then call apply on the series to apply the function to each element in the series\n",
        "df[\"name\"].apply(make_delicious)"
      ]
    },
    {
      "cell_type": "code",
      "execution_count": null,
      "metadata": {
        "id": "V3VsiOUhshuh"
      },
      "outputs": [],
      "source": [
        "# this returns the changes, but doesn't apply them in place\n",
        "# that means on our original dataframe, the cereals are still bland\n",
        "df.head()"
      ]
    },
    {
      "cell_type": "code",
      "execution_count": null,
      "metadata": {
        "id": "4nB_ha-Nshul"
      },
      "outputs": [],
      "source": [
        "# we can fix this by assigning the new names to the column\n",
        "df[\"name\"] = df[\"name\"].apply(make_delicious)\n",
        "df.head()"
      ]
    },
    {
      "cell_type": "markdown",
      "metadata": {
        "id": "K60SmksDm2uM"
      },
      "source": [
        "## 6.3 Grouping & Aggregating"
      ]
    },
    {
      "cell_type": "markdown",
      "metadata": {
        "id": "T3DK7nsim2uM"
      },
      "source": [
        "When we have lots and lots of data, it's more useful to look at aggregate statistics like the mean or median but we may lose too much detail aggregating across the whole dataset.\n",
        "\n",
        "The solution is to aggregate across groups. For example, maybe we're less interested in the mean calorie count of all cereals and more interested in the mean for each manufacturer."
      ]
    },
    {
      "cell_type": "code",
      "execution_count": null,
      "metadata": {
        "id": "tPdlmt6sm2uM"
      },
      "outputs": [],
      "source": [
        "# First, we can see how many (and which) unique manufacturers there are\n",
        "print(df[\"mfr\"].unique())\n",
        "print(df[\"mfr\"].nunique())"
      ]
    },
    {
      "cell_type": "code",
      "execution_count": null,
      "metadata": {
        "id": "qQtx2ccbm2uM"
      },
      "outputs": [],
      "source": [
        "# Now let's group by the manufacturers\n",
        "# This gives us a groupby object across the dataframe\n",
        "mfrs = df.groupby(\"mfr\")\n",
        "mfrs"
      ]
    },
    {
      "cell_type": "code",
      "execution_count": null,
      "metadata": {
        "id": "aR716MM-m2uM"
      },
      "outputs": [],
      "source": [
        "# now let's find the mean calories of each manufacturer\n",
        "mfrs[\"calories\"].mean()"
      ]
    },
    {
      "cell_type": "markdown",
      "metadata": {
        "id": "WP1XAIMDm2uM"
      },
      "source": [
        "You can also group by multiple columns.\n",
        "\n",
        "Let's get the median calorie count for each combination of manufacturer and type."
      ]
    },
    {
      "cell_type": "code",
      "execution_count": null,
      "metadata": {
        "id": "60GDijOim2uM"
      },
      "outputs": [],
      "source": [
        "# The groupby functions always precede any aggregate function\n",
        "df.groupby([\"mfr\", \"type\"])[\"calories\"].median()"
      ]
    },
    {
      "cell_type": "markdown",
      "metadata": {
        "id": "wVsCS-hlm2uM"
      },
      "source": [
        "## 6.4 Leveraging Lambda Functions in Pandas (Optional)"
      ]
    },
    {
      "cell_type": "markdown",
      "metadata": {
        "id": "PtIcmOXnm2uM"
      },
      "source": [
        "We will quickly demonstrate two places where lambda functions are very powerful, conditional indexing and data transformation."
      ]
    },
    {
      "cell_type": "code",
      "execution_count": null,
      "metadata": {
        "id": "nZ0SUzJGm2uM"
      },
      "outputs": [],
      "source": [
        "# We want to filter for rows satisfying col1 > bound1 and col2 > bound2\n",
        "filter_func = lambda row, col1, bound1, col2, bound2: row.loc[col1] > bound1 and row.loc[col2] > bound2\n",
        "\n",
        "# You almost always want axis=1 for apply(), which means to operate row by row\n",
        "df[df.apply(lambda row: filter_func(row, \"sugars\", 5, \"calories\", 150), axis=1)]"
      ]
    },
    {
      "cell_type": "code",
      "execution_count": null,
      "metadata": {
        "id": "vc5ZcuiYm2uM"
      },
      "outputs": [],
      "source": [
        "# We want to calculate some sort of health metric for each cereal by finding a weighted sum of its nutrients\n",
        "\n",
        "def random_metric(row):\n",
        "    return 2*row.loc[\"protein\"] + -0.5*row.loc[\"fat\"] + 1.5*row.loc[\"fiber\"] - 1*row.loc[\"sugars\"]\n",
        "\n",
        "df[\"random_metric\"] = df.apply(lambda row: random_metric(row), axis=1)\n",
        "df.head()"
      ]
    }
  ],
  "metadata": {
    "kernelspec": {
      "display_name": "Python 3.8.5 ('base')",
      "language": "python",
      "name": "python3"
    },
    "language_info": {
      "codemirror_mode": {
        "name": "ipython",
        "version": 3
      },
      "file_extension": ".py",
      "mimetype": "text/x-python",
      "name": "python",
      "nbconvert_exporter": "python",
      "pygments_lexer": "ipython3",
      "version": "3.12.4"
    },
    "vscode": {
      "interpreter": {
        "hash": "e78b6b4158d8f577a77be3bef6c4f5889b406541923fa59adc2e6c48950512fc"
      }
    },
    "colab": {
      "provenance": [],
      "include_colab_link": true
    }
  },
  "nbformat": 4,
  "nbformat_minor": 0
}