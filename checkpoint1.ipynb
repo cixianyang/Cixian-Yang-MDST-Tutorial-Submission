{
  "cells": [
    {
      "cell_type": "markdown",
      "metadata": {
        "id": "view-in-github",
        "colab_type": "text"
      },
      "source": [
        "<a href=\"https://colab.research.google.com/github/cixianyang/Cixian-Yang-MDST-Tutorial-Submission/blob/main/checkpoint1.ipynb\" target=\"_parent\"><img src=\"https://colab.research.google.com/assets/colab-badge.svg\" alt=\"Open In Colab\"/></a>"
      ]
    },
    {
      "cell_type": "markdown",
      "metadata": {
        "id": "--xOUvesph2T"
      },
      "source": [
        "# Checkpoint 1\n",
        "## (Do not remove any comments that start with\"# @@@\".)"
      ]
    },
    {
      "cell_type": "markdown",
      "metadata": {
        "id": "sZrMdh6Qph2U"
      },
      "source": [
        "Reminder:\n",
        "\n",
        "- You are being evaluated for completion and effort in this checkpoint.\n",
        "- Avoid manual labor / hard coding as much as possible, everything we've taught you so far are meant to simplify and automate your process.\n",
        "- Please do not remove any comment that starts with: \"# @@@\"."
      ]
    },
    {
      "cell_type": "markdown",
      "metadata": {
        "id": "I8a4Yrj0ph2U"
      },
      "source": [
        "We will be working with the same `states_edu.csv` that you should already be familiar with from the tutorial.\n",
        "\n",
        "We investigated Grade 8 reading score in the tutorial. For this checkpoint, you are asked to investigate another test. Here's an overview:\n",
        "\n",
        "* Choose a specific response variable to focus on\n",
        ">Grade 4 Math, Grade 4 Reading, Grade 8 Math\n",
        "* Pick or create features to use\n",
        ">Will all the features be useful in predicting test score? Are some more important than others? Should you standardize, bin, or scale the data?\n",
        "* Explore the data as it relates to that test\n",
        ">Create at least 2 visualizations (graphs), each with a caption describing the graph and what it tells us about the data\n",
        "* Create training and testing data\n",
        ">Do you want to train on all the data? Only data from the last 10 years? Only Michigan data?\n",
        "* Train a ML model to predict outcome\n",
        ">Define what you want to predict, and pick a model in sklearn to use (see sklearn <a href=\"https://scikit-learn.org/stable/modules/linear_model.html\">regressors</a>).\n",
        "\n",
        "\n",
        "Include comments throughout your code! Every cleanup and preprocessing task should be documented.\n"
      ]
    },
    {
      "cell_type": "markdown",
      "metadata": {
        "id": "e6QDRfNGph2U"
      },
      "source": []
    },
    {
      "cell_type": "markdown",
      "metadata": {
        "id": "8VicXVSQph2U"
      },
      "source": [
        "<h2> Data Cleanup </h2>\n",
        "\n",
        "Import `numpy`, `pandas`, and `matplotlib`.\n",
        "\n",
        "(Feel free to import other libraries!)"
      ]
    },
    {
      "cell_type": "code",
      "execution_count": null,
      "metadata": {
        "id": "LB7yOSrQph2V"
      },
      "outputs": [],
      "source": []
    },
    {
      "cell_type": "markdown",
      "metadata": {
        "id": "bGGE1zY3ph2V"
      },
      "source": [
        "Load in the \"states_edu.csv\" dataset and take a look at the head of the data"
      ]
    },
    {
      "cell_type": "code",
      "execution_count": null,
      "metadata": {
        "id": "E22jyKBdph2V"
      },
      "outputs": [],
      "source": []
    },
    {
      "cell_type": "markdown",
      "metadata": {
        "id": "dVsb-zTgph2V"
      },
      "source": [
        "You should always familiarize yourself with what each column in the dataframe represents. Read about the states_edu dataset here: https://www.kaggle.com/noriuk/us-education-datasets-unification-project"
      ]
    },
    {
      "cell_type": "markdown",
      "metadata": {
        "id": "m7etVfvMph2V"
      },
      "source": [
        "Use this space to rename columns, deal with missing data, etc. _(optional)_"
      ]
    },
    {
      "cell_type": "code",
      "execution_count": null,
      "metadata": {
        "id": "wC9ELSD9ph2V"
      },
      "outputs": [],
      "source": []
    },
    {
      "cell_type": "markdown",
      "metadata": {
        "id": "WQ2MlSKlph2V"
      },
      "source": [
        "<h2>Exploratory Data Analysis (EDA) </h2>"
      ]
    },
    {
      "cell_type": "markdown",
      "metadata": {
        "id": "t6mtGOTfph2V"
      },
      "source": [
        "Chosen one of Grade 4 Reading, Grade 4 Math, or Grade 8 Math to focus on: *ENTER YOUR CHOICE HERE*"
      ]
    },
    {
      "cell_type": "markdown",
      "metadata": {
        "id": "RnKHTTs6ph2V"
      },
      "source": [
        "How many years of data are logged in our dataset?"
      ]
    },
    {
      "cell_type": "code",
      "execution_count": null,
      "metadata": {
        "id": "6-2u4aA9ph2V"
      },
      "outputs": [],
      "source": [
        "# @@@ 1\n",
        "# Your Code"
      ]
    },
    {
      "cell_type": "markdown",
      "metadata": {
        "id": "TzdgqLRaph2V"
      },
      "source": [
        "Let's compare Michigan to Ohio. Which state has the higher average across all years in the test you chose?"
      ]
    },
    {
      "cell_type": "code",
      "execution_count": null,
      "metadata": {
        "id": "LbeoarQQph2V"
      },
      "outputs": [],
      "source": [
        "# @@@ 2"
      ]
    },
    {
      "cell_type": "markdown",
      "metadata": {
        "id": "-u9m70c4ph2V"
      },
      "source": [
        "Find the average for your chosen test across all states in 2019"
      ]
    },
    {
      "cell_type": "code",
      "execution_count": null,
      "metadata": {
        "id": "YJQidHXSph2V"
      },
      "outputs": [],
      "source": [
        "# @@@ 3\n"
      ]
    },
    {
      "cell_type": "markdown",
      "metadata": {
        "id": "jxnmex-Zph2V"
      },
      "source": [
        "For each state, find a maximum value for your chosen test score"
      ]
    },
    {
      "cell_type": "code",
      "execution_count": null,
      "metadata": {
        "id": "YWw6EXuQph2V"
      },
      "outputs": [],
      "source": [
        "# @@@ 4\n"
      ]
    },
    {
      "cell_type": "markdown",
      "metadata": {
        "id": "Ohuc_iUtph2V"
      },
      "source": [
        "*Refer to the `Grouping and Aggregating` section in Tutorial 0 if you are stuck."
      ]
    },
    {
      "cell_type": "markdown",
      "metadata": {
        "id": "BrWsUXHZph2V"
      },
      "source": [
        "<h2> Feature Engineering </h2>\n",
        "\n",
        "After exploring the data, you can choose to modify features that you would use to predict the performance of the students on your chosen response variable.\n",
        "\n",
        "You can also create your own features. For example, perhaps you figured that maybe a state's expenditure per student may affect their overall academic performance so you create a expenditure_per_student feature.\n",
        "\n",
        "Use this space to modify or create features."
      ]
    },
    {
      "cell_type": "code",
      "execution_count": null,
      "metadata": {
        "id": "S8Nt7tdiph2W"
      },
      "outputs": [],
      "source": [
        "# @@@ 5\n"
      ]
    },
    {
      "cell_type": "markdown",
      "metadata": {
        "id": "gMi4TjvPph2W"
      },
      "source": [
        "Feature engineering justification: **<BRIEFLY DESCRIBE WHY YOU MADE THE CHANGES THAT YOU DID\\>**"
      ]
    },
    {
      "cell_type": "markdown",
      "metadata": {
        "id": "8qFY06x2ph2W"
      },
      "source": [
        "<h2>Visualization</h2>\n",
        "\n",
        "Investigate the relationship between your chosen response variable and at least two predictors using visualizations. Write down your observations.\n",
        "\n",
        "**Visualization 1**"
      ]
    },
    {
      "cell_type": "code",
      "execution_count": null,
      "metadata": {
        "id": "gQwpxGyaph2W"
      },
      "outputs": [],
      "source": [
        "# @@@ 6\n"
      ]
    },
    {
      "cell_type": "markdown",
      "metadata": {
        "id": "lkxaKMerph2W"
      },
      "source": [
        "**<CAPTION FOR VIZ 1>**"
      ]
    },
    {
      "cell_type": "markdown",
      "metadata": {
        "id": "be-A-8NPph2W"
      },
      "source": [
        "**Visualization 2**"
      ]
    },
    {
      "cell_type": "code",
      "execution_count": null,
      "metadata": {
        "id": "xX_y2t4bph2W"
      },
      "outputs": [],
      "source": [
        "# @@@ 7"
      ]
    },
    {
      "cell_type": "markdown",
      "metadata": {
        "id": "r2wEDilEph2W"
      },
      "source": [
        "**<CAPTION FOR VIZ 2>**"
      ]
    },
    {
      "cell_type": "markdown",
      "metadata": {
        "id": "uc6jNKDSph2W"
      },
      "source": [
        "<h2> Data Creation </h2>\n",
        "\n",
        "_Use this space to create train/test data_"
      ]
    },
    {
      "cell_type": "code",
      "execution_count": null,
      "metadata": {
        "id": "xjBEwmSDph2W"
      },
      "outputs": [],
      "source": [
        "from sklearn.model_selection import train_test_split"
      ]
    },
    {
      "cell_type": "code",
      "execution_count": null,
      "metadata": {
        "id": "_LuZgykAph2W"
      },
      "outputs": [],
      "source": [
        "# @@@ 8\n",
        "\n",
        "# X =\n",
        "# y ="
      ]
    },
    {
      "cell_type": "code",
      "execution_count": null,
      "metadata": {
        "id": "Pwgutpxzph2W"
      },
      "outputs": [],
      "source": [
        "# @@@ 9\n",
        "\n",
        "# X_train, X_test, y_train, y_test = train_test_split(\n",
        "#      X, y, test_size=, random_state=42)"
      ]
    },
    {
      "cell_type": "markdown",
      "metadata": {
        "id": "jFnqC0Gjph2W"
      },
      "source": [
        "<h2> Prediction </h2>"
      ]
    },
    {
      "cell_type": "markdown",
      "metadata": {
        "id": "gjhKqgWZph2W"
      },
      "source": [
        "ML Models [Resource](https://medium.com/@vijaya.beeravalli/comparison-of-machine-learning-classification-models-for-credit-card-default-data-c3cf805c9a5a)"
      ]
    },
    {
      "cell_type": "code",
      "execution_count": null,
      "metadata": {
        "id": "uET97fG3ph2W"
      },
      "outputs": [],
      "source": [
        "# @@@ 10\n",
        "# import your sklearn class here\n"
      ]
    },
    {
      "cell_type": "code",
      "execution_count": null,
      "metadata": {
        "id": "i1sr3pFHph2W"
      },
      "outputs": [],
      "source": [
        "# @@@ 11\n",
        "# create your model here\n",
        "# model ="
      ]
    },
    {
      "cell_type": "code",
      "execution_count": null,
      "metadata": {
        "id": "CXGGVxjJph2X"
      },
      "outputs": [],
      "source": [
        "model.fit(X_train, y_train)"
      ]
    },
    {
      "cell_type": "code",
      "execution_count": null,
      "metadata": {
        "id": "n6oMcxPCph2X"
      },
      "outputs": [],
      "source": [
        "y_pred = model.predict(X_test)"
      ]
    },
    {
      "cell_type": "markdown",
      "metadata": {
        "id": "qYJ65aC7ph2X"
      },
      "source": [
        "## Evaluation"
      ]
    },
    {
      "cell_type": "markdown",
      "metadata": {
        "id": "pBdgKF0fph2X"
      },
      "source": [
        "Choose some metrics to evaluate the performance of your model, some of them are mentioned in the tutorial."
      ]
    },
    {
      "cell_type": "code",
      "execution_count": null,
      "metadata": {
        "id": "Bpm9ENiMph2X"
      },
      "outputs": [],
      "source": [
        "# @@@ 12\n"
      ]
    },
    {
      "cell_type": "markdown",
      "metadata": {
        "id": "fQtxeF_xph2X"
      },
      "source": [
        "We have copied over the graphs that visualize the model's performance on the training and testing set.\n",
        "\n",
        "Change `col_name` and modify the call to `plt.ylabel()` to isolate how a single predictor affects the model."
      ]
    },
    {
      "cell_type": "code",
      "execution_count": null,
      "metadata": {
        "id": "RswWxDIHph2X"
      },
      "outputs": [],
      "source": [
        "# @@@ 13\n",
        "\n",
        "# col_name = 'COLUMN NAME OF ONE PREDICTOR'\n",
        "\n",
        "\n",
        "# f = plt.figure(figsize=(12,6))\n",
        "# plt.scatter(X_train[col_name], y_train, color = \"red\")\n",
        "# plt.scatter(X_train[col_name], model.predict(X_train), color = \"green\")\n",
        "\n",
        "# plt.legend(['True Training','Predicted Training'])\n",
        "# plt.xlabel(col_name)\n",
        "# plt.ylabel('NAME OF THE PREDICTOR')\n",
        "# plt.title(\"Model Behavior On Training Set\")"
      ]
    },
    {
      "cell_type": "code",
      "execution_count": null,
      "metadata": {
        "id": "9XrhdYSEph2X"
      },
      "outputs": [],
      "source": [
        "# @@@ 14\n",
        "\n",
        "\n",
        "# col_name = 'COLUMN NAME OF ONE PREDICTOR\"\n",
        "\n",
        "\n",
        "# f = plt.figure(figsize=(12,6))\n",
        "# plt.scatter(X_test[col_name], y_test, color = \"blue\")\n",
        "# plt.scatter(X_test[col_name], model.predict(X_test), color = \"black\")\n",
        "\n",
        "# plt.legend(['True testing','Predicted testing'])\n",
        "# plt.xlabel(col_name)\n",
        "# plt.ylabel('NAME OF THE PREDICTOR')\n",
        "# plt.title(\"Model Behavior on Testing Set\")"
      ]
    }
  ],
  "metadata": {
    "kernelspec": {
      "display_name": "Python 3.9.0 64-bit",
      "language": "python",
      "name": "python3"
    },
    "language_info": {
      "codemirror_mode": {
        "name": "ipython",
        "version": 3
      },
      "file_extension": ".py",
      "mimetype": "text/x-python",
      "name": "python",
      "nbconvert_exporter": "python",
      "pygments_lexer": "ipython3",
      "version": "3.9.0"
    },
    "vscode": {
      "interpreter": {
        "hash": "6cf8df3ff69f85f626faf55c10df6fe2cb9d1236b4dc73844ee4dc01369c2c99"
      }
    },
    "colab": {
      "provenance": [],
      "toc_visible": true,
      "include_colab_link": true
    }
  },
  "nbformat": 4,
  "nbformat_minor": 0
}